{
 "cells": [
  {
   "cell_type": "code",
   "execution_count": 4,
   "id": "1ba5ead0",
   "metadata": {},
   "outputs": [],
   "source": [
    "import requests as req"
   ]
  },
  {
   "cell_type": "code",
   "execution_count": 6,
   "id": "70ba392c",
   "metadata": {},
   "outputs": [],
   "source": [
    "res = req.get('https://finance.naver.com/sise/sise_market_sum.naver?&page=1')"
   ]
  },
  {
   "cell_type": "code",
   "execution_count": 5,
   "id": "959e7d2f",
   "metadata": {},
   "outputs": [],
   "source": [
    "from bs4 import BeautifulSoup as bs"
   ]
  },
  {
   "cell_type": "code",
   "execution_count": 9,
   "id": "a9ddfbf3",
   "metadata": {},
   "outputs": [],
   "source": [
    "soup = bs(res.text ,'lxml')"
   ]
  },
  {
   "cell_type": "code",
   "execution_count": 15,
   "id": "73a55982",
   "metadata": {},
   "outputs": [
    {
     "data": {
      "text/plain": [
       "[<a class=\"tltle\" href=\"/item/main.naver?code=005930\">삼성전자</a>,\n",
       " <a class=\"tltle\" href=\"/item/main.naver?code=373220\">LG에너지솔루션</a>,\n",
       " <a class=\"tltle\" href=\"/item/main.naver?code=000660\">SK하이닉스</a>,\n",
       " <a class=\"tltle\" href=\"/item/main.naver?code=207940\">삼성바이오로직스</a>,\n",
       " <a class=\"tltle\" href=\"/item/main.naver?code=005490\">POSCO홀딩스</a>,\n",
       " <a class=\"tltle\" href=\"/item/main.naver?code=005935\">삼성전자우</a>,\n",
       " <a class=\"tltle\" href=\"/item/main.naver?code=006400\">삼성SDI</a>,\n",
       " <a class=\"tltle\" href=\"/item/main.naver?code=005380\">현대차</a>,\n",
       " <a class=\"tltle\" href=\"/item/main.naver?code=051910\">LG화학</a>,\n",
       " <a class=\"tltle\" href=\"/item/main.naver?code=003670\">포스코퓨처엠</a>,\n",
       " <a class=\"tltle\" href=\"/item/main.naver?code=035420\">NAVER</a>,\n",
       " <a class=\"tltle\" href=\"/item/main.naver?code=000270\">기아</a>,\n",
       " <a class=\"tltle\" href=\"/item/main.naver?code=012330\">현대모비스</a>,\n",
       " <a class=\"tltle\" href=\"/item/main.naver?code=035720\">카카오</a>,\n",
       " <a class=\"tltle\" href=\"/item/main.naver?code=105560\">KB금융</a>,\n",
       " <a class=\"tltle\" href=\"/item/main.naver?code=068270\">셀트리온</a>,\n",
       " <a class=\"tltle\" href=\"/item/main.naver?code=028260\">삼성물산</a>,\n",
       " <a class=\"tltle\" href=\"/item/main.naver?code=055550\">신한지주</a>,\n",
       " <a class=\"tltle\" href=\"/item/main.naver?code=066570\">LG전자</a>,\n",
       " <a class=\"tltle\" href=\"/item/main.naver?code=096770\">SK이노베이션</a>,\n",
       " <a class=\"tltle\" href=\"/item/main.naver?code=047050\">포스코인터내셔널</a>,\n",
       " <a class=\"tltle\" href=\"/item/main.naver?code=032830\">삼성생명</a>,\n",
       " <a class=\"tltle\" href=\"/item/main.naver?code=003550\">LG</a>,\n",
       " <a class=\"tltle\" href=\"/item/main.naver?code=000810\">삼성화재</a>,\n",
       " <a class=\"tltle\" href=\"/item/main.naver?code=033780\">KT&amp;G</a>,\n",
       " <a class=\"tltle\" href=\"/item/main.naver?code=323410\">카카오뱅크</a>,\n",
       " <a class=\"tltle\" href=\"/item/main.naver?code=086790\">하나금융지주</a>,\n",
       " <a class=\"tltle\" href=\"/item/main.naver?code=015760\">한국전력</a>,\n",
       " <a class=\"tltle\" href=\"/item/main.naver?code=009150\">삼성전기</a>,\n",
       " <a class=\"tltle\" href=\"/item/main.naver?code=138040\">메리츠금융지주</a>,\n",
       " <a class=\"tltle\" href=\"/item/main.naver?code=018260\">삼성에스디에스</a>,\n",
       " <a class=\"tltle\" href=\"/item/main.naver?code=034020\">두산에너빌리티</a>,\n",
       " <a class=\"tltle\" href=\"/item/main.naver?code=329180\">HD현대중공업</a>,\n",
       " <a class=\"tltle\" href=\"/item/main.naver?code=034730\">SK</a>,\n",
       " <a class=\"tltle\" href=\"/item/main.naver?code=017670\">SK텔레콤</a>,\n",
       " <a class=\"tltle\" href=\"/item/main.naver?code=352820\">하이브</a>,\n",
       " <a class=\"tltle\" href=\"/item/main.naver?code=010130\">고려아연</a>,\n",
       " <a class=\"tltle\" href=\"/item/main.naver?code=030200\">KT</a>,\n",
       " <a class=\"tltle\" href=\"/item/main.naver?code=003490\">대한항공</a>,\n",
       " <a class=\"tltle\" href=\"/item/main.naver?code=024110\">기업은행</a>,\n",
       " <a class=\"tltle\" href=\"/item/main.naver?code=316140\">우리금융지주</a>,\n",
       " <a class=\"tltle\" href=\"/item/main.naver?code=011200\">HMM</a>,\n",
       " <a class=\"tltle\" href=\"/item/main.naver?code=010950\">S-Oil</a>,\n",
       " <a class=\"tltle\" href=\"/item/main.naver?code=009540\">HD한국조선해양</a>,\n",
       " <a class=\"tltle\" href=\"/item/main.naver?code=042660\">한화오션</a>,\n",
       " <a class=\"tltle\" href=\"/item/main.naver?code=259960\">크래프톤</a>,\n",
       " <a class=\"tltle\" href=\"/item/main.naver?code=090430\">아모레퍼시픽</a>,\n",
       " <a class=\"tltle\" href=\"/item/main.naver?code=001570\">금양</a>,\n",
       " <a class=\"tltle\" href=\"/item/main.naver?code=010140\">삼성중공업</a>,\n",
       " <a class=\"tltle\" href=\"/item/main.naver?code=051900\">LG생활건강</a>]"
      ]
     },
     "execution_count": 15,
     "metadata": {},
     "output_type": "execute_result"
    }
   ],
   "source": [
    "soup.select('a.tltle')"
   ]
  },
  {
   "cell_type": "code",
   "execution_count": 6,
   "id": "bc48e057",
   "metadata": {},
   "outputs": [],
   "source": [
    "res = req.get(\"https://finance.naver.com/marketindex/exchangeList.naver\")"
   ]
  },
  {
   "cell_type": "code",
   "execution_count": 7,
   "id": "71ae1bb0",
   "metadata": {},
   "outputs": [],
   "source": [
    "soup = bs(res.text, 'lxml')"
   ]
  },
  {
   "cell_type": "code",
   "execution_count": 8,
   "id": "2139fa2b",
   "metadata": {},
   "outputs": [],
   "source": [
    "money = soup.select(\"td.tit>a\")"
   ]
  },
  {
   "cell_type": "code",
   "execution_count": 10,
   "id": "f2447b56",
   "metadata": {
    "collapsed": true
   },
   "outputs": [
    {
     "data": {
      "text/plain": [
       "['미국 USD',\n",
       " '유럽연합 EUR',\n",
       " '일본 JPY (100엔)',\n",
       " '중국 CNY',\n",
       " '홍콩 HKD',\n",
       " '대만 TWD',\n",
       " '영국 GBP',\n",
       " '오만 OMR',\n",
       " '캐나다 CAD',\n",
       " '스위스 CHF',\n",
       " '스웨덴 SEK',\n",
       " '호주 AUD',\n",
       " '뉴질랜드 NZD',\n",
       " '체코 CZK',\n",
       " '칠레 CLP',\n",
       " '튀르키예 TRY',\n",
       " '몽골 MNT',\n",
       " '이스라엘 ILS',\n",
       " '덴마크 DKK',\n",
       " '노르웨이 NOK',\n",
       " '사우디아라비아 SAR',\n",
       " '쿠웨이트 KWD',\n",
       " '바레인 BHD',\n",
       " '아랍에미리트 AED',\n",
       " '요르단 JOD',\n",
       " '이집트 EGP',\n",
       " '태국 THB',\n",
       " '싱가포르 SGD',\n",
       " '말레이시아 MYR',\n",
       " '인도네시아 IDR 100',\n",
       " '카타르 QAR',\n",
       " '카자흐스탄 KZT',\n",
       " '브루나이 BND',\n",
       " '인도 INR',\n",
       " '파키스탄 PKR',\n",
       " '방글라데시 BDT',\n",
       " '필리핀 PHP',\n",
       " '멕시코 MXN',\n",
       " '브라질 BRL',\n",
       " '베트남 VND 100',\n",
       " '남아프리카 공화국 ZAR',\n",
       " '러시아 RUB',\n",
       " '헝가리 HUF',\n",
       " '폴란드 PLN',\n",
       " '스리랑카 LKR',\n",
       " '알제리 DZD',\n",
       " '케냐 KES',\n",
       " '콜롬비아 COP',\n",
       " '탄자니아 TZS',\n",
       " '네팔 NPR',\n",
       " '루마니아 RON',\n",
       " '리비아 LYD',\n",
       " '마카오 MOP',\n",
       " '미얀마 MMK',\n",
       " '에티오피아 ETB',\n",
       " '우즈베키스탄 UZS',\n",
       " '캄보디아 KHR',\n",
       " '피지 FJD']"
      ]
     },
     "execution_count": 10,
     "metadata": {},
     "output_type": "execute_result"
    }
   ],
   "source": [
    "Money = []\n",
    "for i in money:\n",
    "    Money.append(i.text.strip())\n",
    "Money"
   ]
  },
  {
   "cell_type": "code",
   "execution_count": 13,
   "id": "6334f5c8",
   "metadata": {},
   "outputs": [],
   "source": [
    "sale = soup.select(\"td.sale\")"
   ]
  },
  {
   "cell_type": "code",
   "execution_count": 14,
   "id": "8e4ef09c",
   "metadata": {
    "collapsed": true
   },
   "outputs": [
    {
     "data": {
      "text/plain": [
       "['1,327.40',\n",
       " '1,430.80',\n",
       " '908.84',\n",
       " '181.99',\n",
       " '169.24',\n",
       " '41.70',\n",
       " '1,667.48',\n",
       " '3,447.52',\n",
       " '975.96',\n",
       " '1,496.84',\n",
       " '120.35',\n",
       " '850.07',\n",
       " '783.43',\n",
       " '59.25',\n",
       " '1.57',\n",
       " '51.23',\n",
       " '0.38',\n",
       " '348.83',\n",
       " '191.96',\n",
       " '123.52',\n",
       " '353.84',\n",
       " '4,301.92',\n",
       " '3,520.86',\n",
       " '361.40',\n",
       " '1,872.21',\n",
       " '42.96',\n",
       " '37.77',\n",
       " '978.15',\n",
       " '285.34',\n",
       " '8.69',\n",
       " '364.17',\n",
       " '2.90',\n",
       " '978.15',\n",
       " '16.05',\n",
       " '4.38',\n",
       " '12.15',\n",
       " '23.42',\n",
       " '78.84',\n",
       " '271.92',\n",
       " '5.53',\n",
       " '70.32',\n",
       " '14.03',\n",
       " '3.72',\n",
       " '319.90',\n",
       " '4.10',\n",
       " '9.72',\n",
       " '9.16',\n",
       " '0.32',\n",
       " '0.53',\n",
       " '10.03',\n",
       " '289.67',\n",
       " '275.34',\n",
       " '164.18',\n",
       " '0.63',\n",
       " '24.04',\n",
       " '0.11',\n",
       " '0.32',\n",
       " '585.32']"
      ]
     },
     "execution_count": 14,
     "metadata": {},
     "output_type": "execute_result"
    }
   ],
   "source": [
    "Sale = []\n",
    "for i in sale:\n",
    "    Sale.append(i.text.strip())\n",
    "Sale"
   ]
  },
  {
   "cell_type": "code",
   "execution_count": 15,
   "id": "bf2024a4",
   "metadata": {},
   "outputs": [],
   "source": [
    "import pandas as pd"
   ]
  },
  {
   "cell_type": "code",
   "execution_count": 17,
   "id": "9f6b06bd",
   "metadata": {},
   "outputs": [],
   "source": [
    "dic={'통화명':Money,'매매기준율':Sale}\n",
    "df = pd.DataFrame(dic)"
   ]
  },
  {
   "cell_type": "code",
   "execution_count": 18,
   "id": "e4d905f1",
   "metadata": {},
   "outputs": [],
   "source": [
    "df.to_csv('df.csv', encoding='euc-kr')"
   ]
  },
  {
   "cell_type": "code",
   "execution_count": null,
   "id": "264dec8f",
   "metadata": {},
   "outputs": [],
   "source": []
  }
 ],
 "metadata": {
  "kernelspec": {
   "display_name": "Python 3 (ipykernel)",
   "language": "python",
   "name": "python3"
  },
  "language_info": {
   "codemirror_mode": {
    "name": "ipython",
    "version": 3
   },
   "file_extension": ".py",
   "mimetype": "text/x-python",
   "name": "python",
   "nbconvert_exporter": "python",
   "pygments_lexer": "ipython3",
   "version": "3.10.9"
  }
 },
 "nbformat": 4,
 "nbformat_minor": 5
}
