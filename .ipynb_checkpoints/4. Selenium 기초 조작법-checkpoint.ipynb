{
 "cells": [
  {
   "cell_type": "markdown",
   "id": "a23e5796",
   "metadata": {},
   "source": [
    "# Selenium 라이브러리\n",
    "- 브라우저를 자동제어하여 크롤링을 자동화시키는 라이브러리\n",
    "- 동적 크롤링을 할 때 사용\n",
    "- 반드시 한번 설치가 팔요!"
   ]
  },
  {
   "cell_type": "code",
   "execution_count": 1,
   "id": "2204aa09",
   "metadata": {
    "collapsed": true
   },
   "outputs": [
    {
     "name": "stdout",
     "output_type": "stream",
     "text": [
      "Collecting selenium\n",
      "  Downloading selenium-4.11.2-py3-none-any.whl (7.2 MB)\n",
      "     ---------------------------------------- 7.2/7.2 MB 947.3 kB/s eta 0:00:00\n",
      "Requirement already satisfied: certifi>=2021.10.8 in c:\\users\\gjaischool1\\anaconda3\\lib\\site-packages (from selenium) (2023.5.7)\n",
      "Requirement already satisfied: urllib3[socks]<3,>=1.26 in c:\\users\\gjaischool1\\anaconda3\\lib\\site-packages (from selenium) (1.26.14)\n",
      "Collecting trio-websocket~=0.9\n",
      "  Downloading trio_websocket-0.10.3-py3-none-any.whl (17 kB)\n",
      "Collecting trio~=0.17\n",
      "  Downloading trio-0.22.2-py3-none-any.whl (400 kB)\n",
      "     -------------------------------------- 400.2/400.2 kB 1.8 MB/s eta 0:00:00\n",
      "Requirement already satisfied: sniffio in c:\\users\\gjaischool1\\anaconda3\\lib\\site-packages (from trio~=0.17->selenium) (1.2.0)\n",
      "Requirement already satisfied: cffi>=1.14 in c:\\users\\gjaischool1\\anaconda3\\lib\\site-packages (from trio~=0.17->selenium) (1.15.1)\n",
      "Collecting outcome\n",
      "  Downloading outcome-1.2.0-py2.py3-none-any.whl (9.7 kB)\n",
      "Requirement already satisfied: attrs>=20.1.0 in c:\\users\\gjaischool1\\anaconda3\\lib\\site-packages (from trio~=0.17->selenium) (22.1.0)\n",
      "Requirement already satisfied: idna in c:\\users\\gjaischool1\\anaconda3\\lib\\site-packages (from trio~=0.17->selenium) (3.4)\n",
      "Collecting exceptiongroup>=1.0.0rc9\n",
      "  Downloading exceptiongroup-1.1.3-py3-none-any.whl (14 kB)\n",
      "Requirement already satisfied: sortedcontainers in c:\\users\\gjaischool1\\anaconda3\\lib\\site-packages (from trio~=0.17->selenium) (2.4.0)\n",
      "Collecting wsproto>=0.14\n",
      "  Downloading wsproto-1.2.0-py3-none-any.whl (24 kB)\n",
      "Requirement already satisfied: PySocks!=1.5.7,<2.0,>=1.5.6 in c:\\users\\gjaischool1\\anaconda3\\lib\\site-packages (from urllib3[socks]<3,>=1.26->selenium) (1.7.1)\n",
      "Requirement already satisfied: pycparser in c:\\users\\gjaischool1\\anaconda3\\lib\\site-packages (from cffi>=1.14->trio~=0.17->selenium) (2.21)\n",
      "Collecting h11<1,>=0.9.0\n",
      "  Downloading h11-0.14.0-py3-none-any.whl (58 kB)\n",
      "     ---------------------------------------- 58.3/58.3 kB 1.5 MB/s eta 0:00:00\n",
      "Installing collected packages: outcome, h11, exceptiongroup, wsproto, trio, trio-websocket, selenium\n",
      "Successfully installed exceptiongroup-1.1.3 h11-0.14.0 outcome-1.2.0 selenium-4.11.2 trio-0.22.2 trio-websocket-0.10.3 wsproto-1.2.0\n"
     ]
    }
   ],
   "source": [
    "# 라이브러리 설치\n",
    "!pip install selenium"
   ]
  },
  {
   "cell_type": "code",
   "execution_count": 2,
   "id": "4734aea8",
   "metadata": {
    "collapsed": true
   },
   "outputs": [
    {
     "name": "stdout",
     "output_type": "stream",
     "text": [
      "Requirement already satisfied: selenium in c:\\users\\gjaischool1\\anaconda3\\lib\\site-packages (4.11.2)\n",
      "Requirement already satisfied: trio-websocket~=0.9 in c:\\users\\gjaischool1\\anaconda3\\lib\\site-packages (from selenium) (0.10.3)\n",
      "Requirement already satisfied: urllib3[socks]<3,>=1.26 in c:\\users\\gjaischool1\\anaconda3\\lib\\site-packages (from selenium) (1.26.14)\n",
      "Requirement already satisfied: trio~=0.17 in c:\\users\\gjaischool1\\anaconda3\\lib\\site-packages (from selenium) (0.22.2)\n",
      "Requirement already satisfied: certifi>=2021.10.8 in c:\\users\\gjaischool1\\anaconda3\\lib\\site-packages (from selenium) (2023.5.7)\n",
      "Requirement already satisfied: cffi>=1.14 in c:\\users\\gjaischool1\\anaconda3\\lib\\site-packages (from trio~=0.17->selenium) (1.15.1)\n",
      "Requirement already satisfied: outcome in c:\\users\\gjaischool1\\anaconda3\\lib\\site-packages (from trio~=0.17->selenium) (1.2.0)\n",
      "Requirement already satisfied: idna in c:\\users\\gjaischool1\\anaconda3\\lib\\site-packages (from trio~=0.17->selenium) (3.4)\n",
      "Requirement already satisfied: attrs>=20.1.0 in c:\\users\\gjaischool1\\anaconda3\\lib\\site-packages (from trio~=0.17->selenium) (22.1.0)\n",
      "Requirement already satisfied: exceptiongroup>=1.0.0rc9 in c:\\users\\gjaischool1\\anaconda3\\lib\\site-packages (from trio~=0.17->selenium) (1.1.3)\n",
      "Requirement already satisfied: sortedcontainers in c:\\users\\gjaischool1\\anaconda3\\lib\\site-packages (from trio~=0.17->selenium) (2.4.0)\n",
      "Requirement already satisfied: sniffio in c:\\users\\gjaischool1\\anaconda3\\lib\\site-packages (from trio~=0.17->selenium) (1.2.0)\n",
      "Requirement already satisfied: wsproto>=0.14 in c:\\users\\gjaischool1\\anaconda3\\lib\\site-packages (from trio-websocket~=0.9->selenium) (1.2.0)\n",
      "Requirement already satisfied: PySocks!=1.5.7,<2.0,>=1.5.6 in c:\\users\\gjaischool1\\anaconda3\\lib\\site-packages (from urllib3[socks]<3,>=1.26->selenium) (1.7.1)\n",
      "Requirement already satisfied: pycparser in c:\\users\\gjaischool1\\anaconda3\\lib\\site-packages (from cffi>=1.14->trio~=0.17->selenium) (2.21)\n",
      "Requirement already satisfied: h11<1,>=0.9.0 in c:\\users\\gjaischool1\\anaconda3\\lib\\site-packages (from wsproto>=0.14->trio-websocket~=0.9->selenium) (0.14.0)\n"
     ]
    }
   ],
   "source": [
    "# 셀레니움 최신버전 업데이트\n",
    "!pip install -U selenium"
   ]
  },
  {
   "cell_type": "code",
   "execution_count": 4,
   "id": "8581d618",
   "metadata": {},
   "outputs": [],
   "source": [
    "# 브라우저의 역할을 해주는 라이브러리\n",
    "from selenium import webdriver as wb\n",
    "\n",
    "# 컴퓨터용 키보드\n",
    "from selenium.webdriver.common.keys import Keys\n",
    "\n",
    "# 선택자의 구분자 역할을 해주는 라이브러리\n",
    "from selenium.webdriver.common.by import By"
   ]
  },
  {
   "cell_type": "code",
   "execution_count": 32,
   "id": "cfdd5cf7",
   "metadata": {},
   "outputs": [
    {
     "data": {
      "text/plain": [
       "<selenium.webdriver.chrome.webdriver.WebDriver (session=\"af1feddf7c406eda884f520e91917367\")>"
      ]
     },
     "execution_count": 32,
     "metadata": {},
     "output_type": "execute_result"
    }
   ],
   "source": [
    "# 1. 크롬창 실행\n",
    "driver = wb.Chrome()\n",
    "driver"
   ]
  },
  {
   "cell_type": "code",
   "execution_count": 33,
   "id": "500c0778",
   "metadata": {},
   "outputs": [],
   "source": [
    "# 2. 특정 페이지로 이동 : 요청(request 같은 역할) 보내기\n",
    "driver.get('https://www.naver.com')"
   ]
  },
  {
   "cell_type": "code",
   "execution_count": 34,
   "id": "fc4b9551",
   "metadata": {},
   "outputs": [],
   "source": [
    "# 3. 검색창에 검색어를 입력\n",
    "# 3-(1). 검색창의 위치(html태그) 찾기 : input태그 id='query'\n",
    "search = driver.find_element(By.ID,\"query\")\n",
    "search.send_keys(\"오늘날씨\")"
   ]
  },
  {
   "cell_type": "code",
   "execution_count": 35,
   "id": "235871a8",
   "metadata": {},
   "outputs": [],
   "source": [
    "# 키보드의 값을 보낼 때는 Keys라이브러리 사용\n",
    "# 주의점! : 대문자로 작성해야함! (ENTER, END, ...)\n",
    "search.send_keys(Keys.ENTER)"
   ]
  },
  {
   "cell_type": "code",
   "execution_count": 37,
   "id": "9398f886",
   "metadata": {},
   "outputs": [
    {
     "data": {
      "text/plain": [
       "<selenium.webdriver.remote.webelement.WebElement (session=\"af1feddf7c406eda884f520e91917367\", element=\"61FC35953B531D40A80383227851B8F7_element_79\")>"
      ]
     },
     "execution_count": 37,
     "metadata": {},
     "output_type": "execute_result"
    }
   ],
   "source": [
    "# 4. 스크롤을 화면 최하단으로 이동\n",
    "# 왜? 화면 밑에 있는 데이터도 로딩하려고\n",
    "# 화면에 키보드에 있는 END키를 보내주기\n",
    "\n",
    "# <head>태그는 기능만 담당 : 화면에 드러나지 않음\n",
    "# <body>태그가 화면에 구현되는 태그들을 담고 있음\n",
    "# 눈에 보이는 화면 자체를 통째로 가져올 때는 <body>태그 사용\n",
    "\n",
    "body = driver.find_element(By.TAG_NAME,\"body\")\n",
    "body"
   ]
  },
  {
   "cell_type": "code",
   "execution_count": 38,
   "id": "9ba1093b",
   "metadata": {},
   "outputs": [],
   "source": [
    "body.send_keys(Keys.END)"
   ]
  },
  {
   "cell_type": "code",
   "execution_count": 39,
   "id": "77471b67",
   "metadata": {},
   "outputs": [],
   "source": [
    "# 5. 페이지 뒤로가기\n",
    "# 뒤로가기 버튼은 html태그가 아니다!!!!!!\n",
    "# 앞으로 가기 : .forward()\n",
    "\n",
    "driver.back()"
   ]
  },
  {
   "cell_type": "code",
   "execution_count": 40,
   "id": "96739312",
   "metadata": {},
   "outputs": [],
   "source": [
    "# 6. 다시 검색창에 새로운 검색어 입력\n",
    "# 페이지 이동 시 / 화면이 변하면 / 화면이 이동했다면 -> 데이터가 초기화됨!\n",
    "# 반드시 요소를 찾는 거부터 다시 해줘야됨!\n",
    "# 요소 검색 후 검색어 입력 명령\n",
    "search = driver.find_element(By.ID,\"query\")\n",
    "search.send_keys(\"무빙\")"
   ]
  },
  {
   "cell_type": "code",
   "execution_count": 41,
   "id": "e409d80b",
   "metadata": {},
   "outputs": [],
   "source": [
    "# 7. 검색버튼 클릭 : 검색\n",
    "btn = driver.find_element(By.CLASS_NAME,\"btn_search\")\n",
    "btn.click()"
   ]
  },
  {
   "cell_type": "code",
   "execution_count": null,
   "id": "e01ad574",
   "metadata": {},
   "outputs": [],
   "source": [
    "# 8. 창 닫기 : 종료\n",
    "driver.quit()\n",
    "# driver.close()"
   ]
  },
  {
   "cell_type": "markdown",
   "id": "4f1d23fa",
   "metadata": {},
   "source": [
    "### 참고할 점 !\n",
    "    이 방식은 최신 방식(최신버전의 코드)\n",
    "    1. 크롬 드라이버 : 컴퓨터용 크롬\n",
    "    1-1. wb.Chrome(\"크롬드라이버의 경로\")\n",
    "    2. find_element(By.ID) -> find_element_by_id()"
   ]
  }
 ],
 "metadata": {
  "kernelspec": {
   "display_name": "Python 3 (ipykernel)",
   "language": "python",
   "name": "python3"
  },
  "language_info": {
   "codemirror_mode": {
    "name": "ipython",
    "version": 3
   },
   "file_extension": ".py",
   "mimetype": "text/x-python",
   "name": "python",
   "nbconvert_exporter": "python",
   "pygments_lexer": "ipython3",
   "version": "3.10.9"
  }
 },
 "nbformat": 4,
 "nbformat_minor": 5
}
