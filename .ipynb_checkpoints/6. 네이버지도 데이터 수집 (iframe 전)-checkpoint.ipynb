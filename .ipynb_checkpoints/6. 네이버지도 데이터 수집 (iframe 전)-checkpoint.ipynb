{
 "cells": [
  {
   "cell_type": "code",
   "execution_count": 1,
   "id": "c77fb804",
   "metadata": {},
   "outputs": [],
   "source": [
    "from selenium import webdriver as wb\n",
    "from selenium.webdriver.common.by import By\n",
    "import time\n",
    "from selenium.webdriver.common.keys import Keys"
   ]
  },
  {
   "cell_type": "code",
   "execution_count": 4,
   "id": "1bb3880f",
   "metadata": {},
   "outputs": [],
   "source": [
    "# 1. 크롬드라이버를 실행해서 네이버지도 사이트로 이동\n",
    "driver = wb.Chrome()"
   ]
  },
  {
   "cell_type": "code",
   "execution_count": 9,
   "id": "12efabea",
   "metadata": {},
   "outputs": [],
   "source": [
    "driver.get(\"https://map.naver.com/p\")"
   ]
  },
  {
   "cell_type": "code",
   "execution_count": 14,
   "id": "106b3a19",
   "metadata": {},
   "outputs": [],
   "source": [
    "# 2. 검색창에 검색어 \"동명동 맛집\" 입력\n",
    "search = driver.find_element(By.CSS_SELECTOR,\"input.input_search\")\n",
    "# 검색창의 구분자인 id값이 실행할 때마다 변하기 때문에 사용 X\n",
    "# 이런 경우에는 다른 선택자를 활용해야 함\n",
    "search.send_keys(\"동명동맛집\")\n",
    "search.send_keys(Keys.ENTER)"
   ]
  },
  {
   "cell_type": "code",
   "execution_count": 15,
   "id": "afb8bc89",
   "metadata": {},
   "outputs": [],
   "source": [
    "# 식당 하나를 클릭해서 세부정보를 가져오기\n",
    "# iframe\n",
    "#화면상에 데이터가 출력은 되는데 조작이 안될 때는 ifrmae 검사!\n",
    "# 1. request는 iframe의 src를 찾아가서 거기서 데이터를 수집\n",
    "# 2. Selenium에서는 현재 컴퓨터가 보고 있는 페이지(창)를 변경시켜줌\n"
   ]
  },
  {
   "cell_type": "code",
   "execution_count": 16,
   "id": "2b3c3b3d",
   "metadata": {},
   "outputs": [],
   "source": [
    "# 컴퓨터에게 바라보고 있는 창을 원하는 iframe 페이지로 변경(이동)하라고 명령을 줌\n",
    "# 해당 iframe의 id값 활용\n",
    "driver.switch_to.frame(\"searchIframe\")"
   ]
  },
  {
   "cell_type": "code",
   "execution_count": 24,
   "id": "86b33486",
   "metadata": {},
   "outputs": [],
   "source": [
    "title = driver.find_elements(By.CSS_SELECTOR,\".tzwk0\")\n",
    "title[1].click()"
   ]
  },
  {
   "cell_type": "code",
   "execution_count": 50,
   "id": "b4e78c3d",
   "metadata": {},
   "outputs": [],
   "source": [
    "# 상세정보에서 가게이름정보 수집\n",
    "# 상세정보 iframe으로 화면 이동\n",
    "# driver.switch_to.frame(\"entryIframe\")\n",
    "\n",
    "# 주의점!!!\n",
    "# iframe에서 다른 iframe으로 바로 이동이 불가능함\n",
    "# 원본 페이지에서 ifame으로 가는 건 가능\n",
    "# -> 반드시 원본 페이지로 이동한 다음 다른 iframe으로 이동!\n",
    "driver.switch_to.default_content()"
   ]
  },
  {
   "cell_type": "code",
   "execution_count": 51,
   "id": "e8364d32",
   "metadata": {},
   "outputs": [],
   "source": [
    "# 상세정보 iframe으로 화면 이동\n",
    "driver.switch_to.frame(\"entryIframe\")"
   ]
  },
  {
   "cell_type": "code",
   "execution_count": 52,
   "id": "82d6fcac",
   "metadata": {},
   "outputs": [
    {
     "data": {
      "text/plain": [
       "'도피 동명점'"
      ]
     },
     "execution_count": 52,
     "metadata": {},
     "output_type": "execute_result"
    }
   ],
   "source": [
    "name = driver.find_element(By.CSS_SELECTOR,\".Fc1rA\")\n",
    "name.text"
   ]
  },
  {
   "cell_type": "code",
   "execution_count": 62,
   "id": "02460299",
   "metadata": {},
   "outputs": [],
   "source": [
    "review = driver.find_element(By.CSS_SELECTOR,\".tpj9w._tab-menu:nth-child(4)\")\n",
    "review.click()\n",
    "#app-root > div > div > div > div.place_fixed_maintab > div > div > div > div > a:nth-child(4)"
   ]
  },
  {
   "cell_type": "code",
   "execution_count": 73,
   "id": "6697a93c",
   "metadata": {},
   "outputs": [],
   "source": [
    "# 더보기 누르기\n",
    "btn = driver.find_element(By.CSS_SELECTOR,\".fvwqf\")\n",
    "btn.click()\n"
   ]
  },
  {
   "cell_type": "code",
   "execution_count": null,
   "id": "d489a0dc",
   "metadata": {},
   "outputs": [],
   "source": [
    "more = driver.find_elements(By.CSS_SELECTOR,\".xHaT3\")"
   ]
  },
  {
   "cell_type": "code",
   "execution_count": 64,
   "id": "ac8ddcf7",
   "metadata": {},
   "outputs": [
    {
     "name": "stdout",
     "output_type": "stream",
     "text": [
      "크림브륄레, 시나몬슈가 먹었어요. 도넛 안에 크림이 가득합니다❤ 식후 후식으로 도넛 생각나서 왔어요. ✅ 2층에 루프탑 공간에 있는 벽이 예쁘네요. ...\n",
      "개인적으로는 상무점이 더 좋습니다. 커피와 도넛 모두 비싼 가격이지만 맛은 있습니다. 다만 분위기가 조금 어수선해서 아쉽네요.\n",
      "피스타치오 정말 맛있어요.\n",
      "시원한 아아 에다가 먹으니 천상궁합이네요\n",
      "시나몬슈가 맛있어요! 카페가 조용한 편이라 대화하기에 좋아요. 음료도 맛있습니당\n",
      "외관만 보고 들어갔던 집인데 맛있었어요! 도넛이 맛있어서 포장해와서 먹어도 괜찮을거 같아요. 다만 주변에 주차할 곳이 마땅치 않아서 좀 불편했어요.\n",
      "계속 먹고 싶었던 도피 ❤️\n",
      "크림브륄레 얼그레이 도넛 넘 맛있오요👍🏻\n",
      "선선해서 테라스에 앉아서 맛있게 냠냠 했오요\n",
      "피스타치오 도넛, 옥수수 도넛 최애\n",
      "빛이 있는날 더 좋은곳~\n",
      "마당 넓은 주택을 개조한 예쁜카페, 마당에 테이블 \n",
      "캠핑의자가 있어서 선선한날 앉아서 먹기 딱이에오! \n",
      "2층 테라스에도 야외 테이블이 있습니다. 음료...\n",
      "넘맛있어여 진짜!! 몇달전에 동명동에 좋아하는 카페 하나 사라져서 아직까지도 넘 맴이 아픈데 도피로 달랬슴다.. 도피 절대 사라지지마유😭 도넛생...\n"
     ]
    }
   ],
   "source": [
    "text = driver.find_elements(By.CSS_SELECTOR ,\".zPfVt\")\n",
    "for i in text:\n",
    "    print(i.text)"
   ]
  },
  {
   "cell_type": "code",
   "execution_count": null,
   "id": "08465e11",
   "metadata": {},
   "outputs": [],
   "source": []
  }
 ],
 "metadata": {
  "kernelspec": {
   "display_name": "Python 3 (ipykernel)",
   "language": "python",
   "name": "python3"
  },
  "language_info": {
   "codemirror_mode": {
    "name": "ipython",
    "version": 3
   },
   "file_extension": ".py",
   "mimetype": "text/x-python",
   "name": "python",
   "nbconvert_exporter": "python",
   "pygments_lexer": "ipython3",
   "version": "3.10.9"
  }
 },
 "nbformat": 4,
 "nbformat_minor": 5
}
