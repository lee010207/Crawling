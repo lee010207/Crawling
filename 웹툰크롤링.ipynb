{
 "cells": [
  {
   "cell_type": "code",
   "execution_count": 2,
   "id": "0e7211cf",
   "metadata": {},
   "outputs": [],
   "source": [
    "from selenium import webdriver as wb\n",
    "from selenium.webdriver.common.by import By\n",
    "from selenium.webdriver.common.keys import Keys"
   ]
  },
  {
   "cell_type": "code",
   "execution_count": 3,
   "id": "63e8ee94",
   "metadata": {},
   "outputs": [],
   "source": [
    "driver = wb.Chrome()\n",
    "driver.get(\"https://comic.naver.com/webtoon?tab=mon\")"
   ]
  },
  {
   "cell_type": "code",
   "execution_count": 4,
   "id": "71a424cc",
   "metadata": {},
   "outputs": [],
   "source": [
    "title = driver.find_elements(By.CSS_SELECTOR,\".ContentTitle__title--e3qXt>span.text\")"
   ]
  },
  {
   "cell_type": "code",
   "execution_count": 5,
   "id": "709d1c80",
   "metadata": {
    "collapsed": true
   },
   "outputs": [
    {
     "name": "stdout",
     "output_type": "stream",
     "text": [
      "절대검감\n",
      "트러블리걸\n",
      "주작연애\n",
      "참교육\n",
      "뷰티풀 군바리\n",
      "신의 탑\n",
      "똑 닮은 딸\n",
      "백수세끼\n",
      "퀘스트지상주의\n",
      "장씨세가 호위무사\n",
      "윈드브레이커\n",
      "소녀의 세계\n",
      "버림받은 왕녀의 은밀한 침실\n",
      "신화급 귀속 아이템을 손에 넣었다\n",
      "우아한 욕망\n",
      "별난식당\n",
      "절대검감\n",
      "퍼니게임\n",
      "만렙돌파\n",
      "잔불의 기사\n",
      "나 없는 단톡방\n",
      "물어보는 사이\n",
      "순정말고 순종\n",
      "리턴 투 플레이어\n",
      "파견체\n",
      "히어로메이커\n",
      "ㅋㅋ단편.zip\n",
      "신군\n",
      "천재 타자가 강속구를 숨김\n",
      "루루라라 우리네 인생\n",
      "칼가는 소녀\n",
      "결혼생활 그림일기\n",
      "더블클릭\n",
      "개같이 탈출\n",
      "앵무살수\n",
      "컨트롤X\n",
      "인섹터\n",
      "서브 남주가 파업하면 생기는 일\n",
      "오빠집이 비어서\n",
      "꿈의 기업\n",
      "악녀교실\n",
      "아슈타르테\n",
      "쥴리에타의 드레스 업\n",
      "시한부의 아이까지 뺏으려 합니다\n",
      "엘프\n",
      "사이다걸\n",
      "헬크래프트\n",
      "피폐물의 해피엔딩을 위하여\n",
      "마이너스의 손\n",
      "입술이 예쁜 남자\n",
      "라서드\n",
      "하루의 하루\n",
      "랭커\n"
     ]
    }
   ],
   "source": [
    "for i in title:\n",
    "    print(i.text)"
   ]
  },
  {
   "cell_type": "code",
   "execution_count": 6,
   "id": "44137c3e",
   "metadata": {
    "collapsed": true
   },
   "outputs": [
    {
     "ename": "NoSuchWindowException",
     "evalue": "Message: no such window: target window already closed\nfrom unknown error: web view not found\n  (Session info: chrome=116.0.5845.111)\nStacktrace:\n\tGetHandleVerifier [0x00007FF7C0D752A2+57122]\n\t(No symbol) [0x00007FF7C0CEEA92]\n\t(No symbol) [0x00007FF7C0BBE3AB]\n\t(No symbol) [0x00007FF7C0B9E1B9]\n\t(No symbol) [0x00007FF7C0C1B417]\n\t(No symbol) [0x00007FF7C0C2E24F]\n\t(No symbol) [0x00007FF7C0C16DB3]\n\t(No symbol) [0x00007FF7C0BED2B1]\n\t(No symbol) [0x00007FF7C0BEE494]\n\tGetHandleVerifier [0x00007FF7C101EF82+2849794]\n\tGetHandleVerifier [0x00007FF7C1071D24+3189156]\n\tGetHandleVerifier [0x00007FF7C106ACAF+3160367]\n\tGetHandleVerifier [0x00007FF7C0E06D06+653702]\n\t(No symbol) [0x00007FF7C0CFA208]\n\t(No symbol) [0x00007FF7C0CF62C4]\n\t(No symbol) [0x00007FF7C0CF63F6]\n\t(No symbol) [0x00007FF7C0CE67A3]\n\tBaseThreadInitThunk [0x00007FFB3A5226AD+29]\n\tRtlUserThreadStart [0x00007FFB3C10AA68+40]\n",
     "output_type": "error",
     "traceback": [
      "\u001b[1;31m---------------------------------------------------------------------------\u001b[0m",
      "\u001b[1;31mNoSuchWindowException\u001b[0m                     Traceback (most recent call last)",
      "Cell \u001b[1;32mIn[6], line 3\u001b[0m\n\u001b[0;32m      1\u001b[0m author \u001b[38;5;241m=\u001b[39m driver\u001b[38;5;241m.\u001b[39mfind_elements(By\u001b[38;5;241m.\u001b[39mCSS_SELECTOR, \u001b[38;5;124m\"\u001b[39m\u001b[38;5;124m.ContentAuthor__author--CTAAP\u001b[39m\u001b[38;5;124m\"\u001b[39m)\n\u001b[0;32m      2\u001b[0m \u001b[38;5;28;01mfor\u001b[39;00m i \u001b[38;5;129;01min\u001b[39;00m author:\n\u001b[1;32m----> 3\u001b[0m     \u001b[38;5;28mprint\u001b[39m(\u001b[43mi\u001b[49m\u001b[38;5;241;43m.\u001b[39;49m\u001b[43mtext\u001b[49m)\n",
      "File \u001b[1;32m~\\anaconda3\\lib\\site-packages\\selenium\\webdriver\\remote\\webelement.py:90\u001b[0m, in \u001b[0;36mWebElement.text\u001b[1;34m(self)\u001b[0m\n\u001b[0;32m     87\u001b[0m \u001b[38;5;129m@property\u001b[39m\n\u001b[0;32m     88\u001b[0m \u001b[38;5;28;01mdef\u001b[39;00m \u001b[38;5;21mtext\u001b[39m(\u001b[38;5;28mself\u001b[39m) \u001b[38;5;241m-\u001b[39m\u001b[38;5;241m>\u001b[39m \u001b[38;5;28mstr\u001b[39m:\n\u001b[0;32m     89\u001b[0m     \u001b[38;5;124;03m\"\"\"The text of the element.\"\"\"\u001b[39;00m\n\u001b[1;32m---> 90\u001b[0m     \u001b[38;5;28;01mreturn\u001b[39;00m \u001b[38;5;28;43mself\u001b[39;49m\u001b[38;5;241;43m.\u001b[39;49m\u001b[43m_execute\u001b[49m\u001b[43m(\u001b[49m\u001b[43mCommand\u001b[49m\u001b[38;5;241;43m.\u001b[39;49m\u001b[43mGET_ELEMENT_TEXT\u001b[49m\u001b[43m)\u001b[49m[\u001b[38;5;124m\"\u001b[39m\u001b[38;5;124mvalue\u001b[39m\u001b[38;5;124m\"\u001b[39m]\n",
      "File \u001b[1;32m~\\anaconda3\\lib\\site-packages\\selenium\\webdriver\\remote\\webelement.py:395\u001b[0m, in \u001b[0;36mWebElement._execute\u001b[1;34m(self, command, params)\u001b[0m\n\u001b[0;32m    393\u001b[0m     params \u001b[38;5;241m=\u001b[39m {}\n\u001b[0;32m    394\u001b[0m params[\u001b[38;5;124m\"\u001b[39m\u001b[38;5;124mid\u001b[39m\u001b[38;5;124m\"\u001b[39m] \u001b[38;5;241m=\u001b[39m \u001b[38;5;28mself\u001b[39m\u001b[38;5;241m.\u001b[39m_id\n\u001b[1;32m--> 395\u001b[0m \u001b[38;5;28;01mreturn\u001b[39;00m \u001b[38;5;28;43mself\u001b[39;49m\u001b[38;5;241;43m.\u001b[39;49m\u001b[43m_parent\u001b[49m\u001b[38;5;241;43m.\u001b[39;49m\u001b[43mexecute\u001b[49m\u001b[43m(\u001b[49m\u001b[43mcommand\u001b[49m\u001b[43m,\u001b[49m\u001b[43m \u001b[49m\u001b[43mparams\u001b[49m\u001b[43m)\u001b[49m\n",
      "File \u001b[1;32m~\\anaconda3\\lib\\site-packages\\selenium\\webdriver\\remote\\webdriver.py:345\u001b[0m, in \u001b[0;36mWebDriver.execute\u001b[1;34m(self, driver_command, params)\u001b[0m\n\u001b[0;32m    343\u001b[0m response \u001b[38;5;241m=\u001b[39m \u001b[38;5;28mself\u001b[39m\u001b[38;5;241m.\u001b[39mcommand_executor\u001b[38;5;241m.\u001b[39mexecute(driver_command, params)\n\u001b[0;32m    344\u001b[0m \u001b[38;5;28;01mif\u001b[39;00m response:\n\u001b[1;32m--> 345\u001b[0m     \u001b[38;5;28;43mself\u001b[39;49m\u001b[38;5;241;43m.\u001b[39;49m\u001b[43merror_handler\u001b[49m\u001b[38;5;241;43m.\u001b[39;49m\u001b[43mcheck_response\u001b[49m\u001b[43m(\u001b[49m\u001b[43mresponse\u001b[49m\u001b[43m)\u001b[49m\n\u001b[0;32m    346\u001b[0m     response[\u001b[38;5;124m\"\u001b[39m\u001b[38;5;124mvalue\u001b[39m\u001b[38;5;124m\"\u001b[39m] \u001b[38;5;241m=\u001b[39m \u001b[38;5;28mself\u001b[39m\u001b[38;5;241m.\u001b[39m_unwrap_value(response\u001b[38;5;241m.\u001b[39mget(\u001b[38;5;124m\"\u001b[39m\u001b[38;5;124mvalue\u001b[39m\u001b[38;5;124m\"\u001b[39m, \u001b[38;5;28;01mNone\u001b[39;00m))\n\u001b[0;32m    347\u001b[0m     \u001b[38;5;28;01mreturn\u001b[39;00m response\n",
      "File \u001b[1;32m~\\anaconda3\\lib\\site-packages\\selenium\\webdriver\\remote\\errorhandler.py:229\u001b[0m, in \u001b[0;36mErrorHandler.check_response\u001b[1;34m(self, response)\u001b[0m\n\u001b[0;32m    227\u001b[0m         alert_text \u001b[38;5;241m=\u001b[39m value[\u001b[38;5;124m\"\u001b[39m\u001b[38;5;124malert\u001b[39m\u001b[38;5;124m\"\u001b[39m]\u001b[38;5;241m.\u001b[39mget(\u001b[38;5;124m\"\u001b[39m\u001b[38;5;124mtext\u001b[39m\u001b[38;5;124m\"\u001b[39m)\n\u001b[0;32m    228\u001b[0m     \u001b[38;5;28;01mraise\u001b[39;00m exception_class(message, screen, stacktrace, alert_text)  \u001b[38;5;66;03m# type: ignore[call-arg]  # mypy is not smart enough here\u001b[39;00m\n\u001b[1;32m--> 229\u001b[0m \u001b[38;5;28;01mraise\u001b[39;00m exception_class(message, screen, stacktrace)\n",
      "\u001b[1;31mNoSuchWindowException\u001b[0m: Message: no such window: target window already closed\nfrom unknown error: web view not found\n  (Session info: chrome=116.0.5845.111)\nStacktrace:\n\tGetHandleVerifier [0x00007FF7C0D752A2+57122]\n\t(No symbol) [0x00007FF7C0CEEA92]\n\t(No symbol) [0x00007FF7C0BBE3AB]\n\t(No symbol) [0x00007FF7C0B9E1B9]\n\t(No symbol) [0x00007FF7C0C1B417]\n\t(No symbol) [0x00007FF7C0C2E24F]\n\t(No symbol) [0x00007FF7C0C16DB3]\n\t(No symbol) [0x00007FF7C0BED2B1]\n\t(No symbol) [0x00007FF7C0BEE494]\n\tGetHandleVerifier [0x00007FF7C101EF82+2849794]\n\tGetHandleVerifier [0x00007FF7C1071D24+3189156]\n\tGetHandleVerifier [0x00007FF7C106ACAF+3160367]\n\tGetHandleVerifier [0x00007FF7C0E06D06+653702]\n\t(No symbol) [0x00007FF7C0CFA208]\n\t(No symbol) [0x00007FF7C0CF62C4]\n\t(No symbol) [0x00007FF7C0CF63F6]\n\t(No symbol) [0x00007FF7C0CE67A3]\n\tBaseThreadInitThunk [0x00007FFB3A5226AD+29]\n\tRtlUserThreadStart [0x00007FFB3C10AA68+40]\n"
     ]
    }
   ],
   "source": [
    "author = driver.find_elements(By.CSS_SELECTOR, \".ContentAuthor__author--CTAAP\")\n",
    "for i in author:\n",
    "    print(i.text)"
   ]
  },
  {
   "cell_type": "code",
   "execution_count": null,
   "id": "1dddfa1a",
   "metadata": {},
   "outputs": [],
   "source": [
    "rating = driver.find_elements(By.CSS_SELECTOR,\".Rating__star_area--dFzsb>span.text\")\n",
    "for i in rating:\n",
    "    print(i.text)"
   ]
  },
  {
   "cell_type": "code",
   "execution_count": null,
   "id": "e1e92200",
   "metadata": {},
   "outputs": [],
   "source": []
  }
 ],
 "metadata": {
  "kernelspec": {
   "display_name": "Python 3 (ipykernel)",
   "language": "python",
   "name": "python3"
  },
  "language_info": {
   "codemirror_mode": {
    "name": "ipython",
    "version": 3
   },
   "file_extension": ".py",
   "mimetype": "text/x-python",
   "name": "python",
   "nbconvert_exporter": "python",
   "pygments_lexer": "ipython3",
   "version": "3.10.9"
  }
 },
 "nbformat": 4,
 "nbformat_minor": 5
}
