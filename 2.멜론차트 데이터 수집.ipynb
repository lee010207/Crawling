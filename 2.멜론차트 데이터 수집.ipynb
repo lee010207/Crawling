{
 "cells": [
  {
   "cell_type": "code",
   "execution_count": 1,
   "id": "ad1d6f2c",
   "metadata": {},
   "outputs": [],
   "source": [
    "import requests as req"
   ]
  },
  {
   "cell_type": "code",
   "execution_count": 2,
   "id": "04b5c6fc",
   "metadata": {},
   "outputs": [],
   "source": [
    "# 1. req를 통해서 멜론차트 정보를 요청\n",
    "head = {'User-Agent':'Mozilla/5.0 (Windows NT 10.0; Win64; x64) AppleWebKit/537.36 (KHTML, like Gecko) Chrome/116.0.0.0 Safari/537.36'}\n",
    "res = req.get(\"https://www.melon.com/chart/index.htm\" , headers=head)"
   ]
  },
  {
   "cell_type": "code",
   "execution_count": 3,
   "id": "d978183c",
   "metadata": {},
   "outputs": [],
   "source": [
    "# 2. bs을 통해서 html 데이터로 변형\n",
    "from bs4 import BeautifulSoup as bs\n",
    "soup = bs(res.text , 'lxml')"
   ]
  },
  {
   "cell_type": "code",
   "execution_count": 4,
   "id": "724dadf2",
   "metadata": {},
   "outputs": [
    {
     "data": {
      "text/plain": [
       "[<a href=\"javascript:melon.play.playSong('1000002721',36713849);\" title=\"Love Lee 재생\">Love Lee</a>,\n",
       " <a href=\"javascript:melon.play.playSong('1000002721',36713850);\" title=\"후라이의 꿈 재생\">후라이의 꿈</a>,\n",
       " <a href=\"javascript:melon.play.playSong('1000002721',36617841);\" title=\"Seven (feat. Latto) - Clean Ver. 재생\">Seven (feat. Latto) - Clean Ver.</a>,\n",
       " <a href=\"javascript:melon.play.playSong('1000002721',36761467);\" title=\"Smoke (Prod. Dynamicduo, Padi) 재생\">Smoke (Prod. Dynamicduo, Padi)</a>,\n",
       " <a href=\"javascript:melon.play.playSong('1000002721',36599950);\" title=\"Super Shy 재생\">Super Shy</a>,\n",
       " <a href=\"javascript:melon.play.playSong('1000002721',36635522);\" title=\"ETA 재생\">ETA</a>,\n",
       " <a href=\"javascript:melon.play.playSong('1000002721',36681074);\" title=\"Fast Forward 재생\">Fast Forward</a>,\n",
       " <a href=\"javascript:melon.play.playSong('1000002721',36616378);\" title=\"사막에서 꽃을 피우듯 재생\">사막에서 꽃을 피우듯</a>,\n",
       " <a href=\"javascript:melon.play.playSong('1000002721',36382580);\" title=\"헤어지자 말해요 재생\">헤어지자 말해요</a>,\n",
       " <a href=\"javascript:melon.play.playSong('1000002721',36764312);\" title=\"I Love My Body 재생\">I Love My Body</a>,\n",
       " <a href=\"javascript:melon.play.playSong('1000002721',36356993);\" title=\"I AM 재생\">I AM</a>,\n",
       " <a href=\"javascript:melon.play.playSong('1000002721',34061322);\" title=\"사랑은 늘 도망가 재생\">사랑은 늘 도망가</a>,\n",
       " <a href=\"javascript:melon.play.playSong('1000002721',36699655);\" title=\"Bubble 재생\">Bubble</a>,\n",
       " <a href=\"javascript:melon.play.playSong('1000002721',36502910);\" title=\"모래 알갱이 재생\">모래 알갱이</a>,\n",
       " <a href=\"javascript:melon.play.playSong('1000002721',36430773);\" title=\"퀸카 (Queencard) 재생\">퀸카 (Queencard)</a>,\n",
       " <a href=\"javascript:melon.play.playSong('1000002721',34908740);\" title=\"우리들의 블루스 재생\">우리들의 블루스</a>,\n",
       " <a href=\"javascript:melon.play.playSong('1000002721',36581408);\" title=\"Still With You 재생\">Still With You</a>,\n",
       " <a href=\"javascript:melon.play.playSong('1000002721',35008524);\" title=\"다시 만날 수 있을까 재생\">다시 만날 수 있을까</a>,\n",
       " <a href=\"javascript:melon.play.playSong('1000002721',36595401);\" title=\"잘 지내자, 우리 (여름날 우리 X 로이킴) 재생\">잘 지내자, 우리 (여름날 우리 X 로이킴)</a>,\n",
       " <a href=\"javascript:melon.play.playSong('1000002721',35454426);\" title=\"Hype boy 재생\">Hype boy</a>,\n",
       " <a href=\"javascript:melon.play.playSong('1000002721',36490426);\" title=\"Steal The Show (From “엘리멘탈”) 재생\">Steal The Show (From “엘리멘탈”)</a>,\n",
       " <a href=\"javascript:melon.play.playSong('1000002721',36411344);\" title=\"이브, 프시케 그리고 푸른 수염의 아내 재생\">이브, 프시케 그리고 푸른 수염의 아내</a>,\n",
       " <a href=\"javascript:melon.play.playSong('1000002721',32508053);\" title=\"이제 나만 믿어요 재생\">이제 나만 믿어요</a>,\n",
       " <a href=\"javascript:melon.play.playSong('1000002721',36824901);\" title=\"Either Way 재생\">Either Way</a>,\n",
       " <a href=\"javascript:melon.play.playSong('1000002721',35008525);\" title=\"무지개 재생\">무지개</a>,\n",
       " <a href=\"javascript:melon.play.playSong('1000002721',36416114);\" title=\"Spicy 재생\">Spicy</a>,\n",
       " <a href=\"javascript:melon.play.playSong('1000002721',35008527);\" title=\"아버지 재생\">아버지</a>,\n",
       " <a href=\"javascript:melon.play.playSong('1000002721',35834583);\" title=\"London Boy 재생\">London Boy</a>,\n",
       " <a href=\"javascript:melon.play.playSong('1000002721',36318125);\" title=\"Kitsch 재생\">Kitsch</a>,\n",
       " <a href=\"javascript:melon.play.playSong('1000002721',35834584);\" title=\"Polaroid 재생\">Polaroid</a>,\n",
       " <a href=\"javascript:melon.play.playSong('1000002721',35945927);\" title=\"Ditto 재생\">Ditto</a>,\n",
       " <a href=\"javascript:melon.play.playSong('1000002721',36691823);\" title=\"Love Me Again 재생\">Love Me Again</a>,\n",
       " <a href=\"javascript:melon.play.playSong('1000002721',35008534);\" title=\"인생찬가 재생\">인생찬가</a>,\n",
       " <a href=\"javascript:melon.play.playSong('1000002721',36599949);\" title=\"New Jeans 재생\">New Jeans</a>,\n",
       " <a href=\"javascript:melon.play.playSong('1000002721',35008528);\" title=\"A bientot 재생\">A bientot</a>,\n",
       " <a href=\"javascript:melon.play.playSong('1000002721',36710003);\" title=\"KIDDING 재생\">KIDDING</a>,\n",
       " <a href=\"javascript:melon.play.playSong('1000002721',35008526);\" title=\"손이 참 곱던 그대 재생\">손이 참 곱던 그대</a>,\n",
       " <a href=\"javascript:melon.play.playSong('1000002721',36582681);\" title=\"CAKE 재생\">CAKE</a>,\n",
       " <a href=\"javascript:melon.play.playSong('1000002721',35008531);\" title=\"사랑해 진짜 재생\">사랑해 진짜</a>,\n",
       " <a href=\"javascript:melon.play.playSong('1000002721',35008532);\" title=\"연애편지 재생\">연애편지</a>,\n",
       " <a href=\"javascript:melon.play.playSong('1000002721',35299693);\" title=\"Summer (Feat. BE’O (비오)) 재생\">Summer (Feat. BE’O (비오))</a>,\n",
       " <a href=\"javascript:melon.play.playSong('1000002721',36411342);\" title=\"UNFORGIVEN (feat. Nile Rodgers) 재생\">UNFORGIVEN (feat. Nile Rodgers)</a>,\n",
       " <a href=\"javascript:melon.play.playSong('1000002721',35546497);\" title=\"After LIKE 재생\">After LIKE</a>,\n",
       " <a href=\"javascript:melon.play.playSong('1000002721',4446485);\" title=\"너의 모든 순간 재생\">너의 모든 순간</a>,\n",
       " <a href=\"javascript:melon.play.playSong('1000002721',34819473);\" title=\"사건의 지평선 재생\">사건의 지평선</a>,\n",
       " <a href=\"javascript:melon.play.playSong('1000002721',32872978);\" title=\"Dynamite 재생\">Dynamite</a>,\n",
       " <a href=\"javascript:melon.play.playSong('1000002721',36805679);\" title=\"Vancouver 2 재생\">Vancouver 2</a>,\n",
       " <a href=\"javascript:melon.play.playSong('1000002721',32061975);\" title=\"어떻게 이별까지 사랑하겠어, 널 사랑하는 거지 재생\">어떻게 이별까지 사랑하겠어, 널 사랑하는 거지</a>,\n",
       " <a href=\"javascript:melon.play.playSong('1000002721',36518341);\" title=\"나에게 그대만이 재생\">나에게 그대만이</a>,\n",
       " <a href=\"javascript:melon.play.playSong('1000002721',35008530);\" title=\"보금자리 재생\">보금자리</a>,\n",
       " <a href=\"javascript:melon.play.playSong('1000002721',34847378);\" title=\"LOVE DIVE 재생\">LOVE DIVE</a>,\n",
       " <a href=\"javascript:melon.play.playSong('1000002721',35985167);\" title=\"OMG 재생\">OMG</a>,\n",
       " <a href=\"javascript:melon.play.playSong('1000002721',34657844);\" title=\"사랑인가 봐 재생\">사랑인가 봐</a>,\n",
       " <a href=\"javascript:melon.play.playSong('1000002721',36694468);\" title=\"Slow Dancing 재생\">Slow Dancing</a>,\n",
       " <a href=\"javascript:melon.play.playSong('1000002721',36180700);\" title=\"심(心) 재생\">심(心)</a>,\n",
       " <a href=\"javascript:melon.play.playSong('1000002721',35454425);\" title=\"Attention 재생\">Attention</a>,\n",
       " <a href=\"javascript:melon.play.playSong('1000002721',35640751);\" title=\"I Don't Think That I Like Her 재생\">I Don't Think That I Like Her</a>,\n",
       " <a href=\"javascript:melon.play.playSong('1000002721',33507137);\" title=\"Butter 재생\">Butter</a>,\n",
       " <a href=\"javascript:melon.play.playSong('1000002721',36334401);\" title=\"사랑하지 않아서 그랬어 재생\">사랑하지 않아서 그랬어</a>,\n",
       " <a href=\"javascript:melon.play.playSong('1000002721',30244931);\" title=\"봄날 재생\">봄날</a>,\n",
       " <a href=\"javascript:melon.play.playSong('1000002721',36717264);\" title=\"Get A Guitar 재생\">Get A Guitar</a>,\n",
       " <a href=\"javascript:melon.play.playSong('1000002721',36694466);\" title=\"Rainy Days 재생\">Rainy Days</a>,\n",
       " <a href=\"javascript:melon.play.playSong('1000002721',36391236);\" title=\"손오공 재생\">손오공</a>,\n",
       " <a href=\"javascript:melon.play.playSong('1000002721',36613696);\" title=\"I WANT 재생\">I WANT</a>,\n",
       " <a href=\"javascript:melon.play.playSong('1000002721',36313117);\" title=\"Like Crazy 재생\">Like Crazy</a>,\n",
       " <a href=\"javascript:melon.play.playSong('1000002721',8037843);\" title=\"Dangerously 재생\">Dangerously</a>,\n",
       " <a href=\"javascript:melon.play.playSong('1000002721',36331121);\" title=\"꽃 재생\">꽃</a>,\n",
       " <a href=\"javascript:melon.play.playSong('1000002721',36516320);\" title=\"Take Two 재생\">Take Two</a>,\n",
       " <a href=\"javascript:melon.play.playSong('1000002721',35849863);\" title=\"Dreamers [Music from the FIFA World Cup Qatar 2022 Official Soundtrack] (Feat. FIFA Sound) 재생\">Dreamers [Music from the FIFA World Cup Qatar 2022 Official Soundtrack] (Feat. FIFA Sound)</a>,\n",
       " <a href=\"javascript:melon.play.playSong('1000002721',36632907);\" title=\"Cool With You 재생\">Cool With You</a>,\n",
       " <a href=\"javascript:melon.play.playSong('1000002721',34431086);\" title=\"취중고백 재생\">취중고백</a>,\n",
       " <a href=\"javascript:melon.play.playSong('1000002721',36726727);\" title=\"Baggy Jeans 재생\">Baggy Jeans</a>,\n",
       " <a href=\"javascript:melon.play.playSong('1000002721',36110996);\" title=\"파이팅 해야지 (Feat. 이영지) 재생\">파이팅 해야지 (Feat. 이영지)</a>,\n",
       " <a href=\"javascript:melon.play.playSong('1000002721',36741987);\" title=\"Click Like (Prod. Crush) (Feat. Paul Blanco) 재생\">Click Like (Prod. Crush) (Feat. Paul Blanco)</a>,\n",
       " <a href=\"javascript:melon.play.playSong('1000002721',36105548);\" title=\"Teddy Bear 재생\">Teddy Bear</a>,\n",
       " <a href=\"javascript:melon.play.playSong('1000002721',36351997);\" title=\"사람 Pt.2 (feat. 아이유) 재생\">사람 Pt.2 (feat. 아이유)</a>,\n",
       " <a href=\"javascript:melon.play.playSong('1000002721',33496587);\" title=\"다정히 내 이름을 부르면 재생\">다정히 내 이름을 부르면</a>,\n",
       " <a href=\"javascript:melon.play.playSong('1000002721',33658563);\" title=\"STAY 재생\">STAY</a>,\n",
       " <a href=\"javascript:melon.play.playSong('1000002721',36713131);\" title=\"미친 사랑의 노래 재생\">미친 사랑의 노래</a>,\n",
       " <a href=\"javascript:melon.play.playSong('1000002721',35252996);\" title=\"해요 (2022) 재생\">해요 (2022)</a>,\n",
       " <a href=\"javascript:melon.play.playSong('1000002721',36500102);\" title=\"사실말야내가말야그게그러니까말이야 재생\">사실말야내가말야그게그러니까말이야</a>,\n",
       " <a href=\"javascript:melon.play.playSong('1000002721',36001290);\" title=\"건물 사이에 피어난 장미 (Rose Blossom) 재생\">건물 사이에 피어난 장미 (Rose Blossom)</a>,\n",
       " <a href=\"javascript:melon.play.playSong('1000002721',36404853);\" title=\"물론 재생\">물론</a>,\n",
       " <a href=\"javascript:melon.play.playSong('1000002721',31666417);\" title=\"주저하는 연인들을 위해 재생\">주저하는 연인들을 위해</a>,\n",
       " <a href=\"javascript:melon.play.playSong('1000002721',35729104);\" title=\"ANTIFRAGILE 재생\">ANTIFRAGILE</a>,\n",
       " <a href=\"javascript:melon.play.playSong('1000002721',35667692);\" title=\"그중에 그대를 만나 재생\">그중에 그대를 만나</a>,\n",
       " <a href=\"javascript:melon.play.playSong('1000002721',36517231);\" title=\"사랑의 바보 재생\">사랑의 바보</a>,\n",
       " <a href=\"javascript:melon.play.playSong('1000002721',36778869);\" title=\"별 떨어진다 (I Do) 재생\">별 떨어진다 (I Do)</a>,\n",
       " <a href=\"javascript:melon.play.playSong('1000002721',35931532);\" title=\"Candy 재생\">Candy</a>,\n",
       " <a href=\"javascript:melon.play.playSong('1000002721',36778867);\" title=\"Somebody 재생\">Somebody</a>,\n",
       " <a href=\"javascript:melon.play.playSong('1000002721',36428682);\" title=\"잠깐 시간 될까 재생\">잠깐 시간 될까</a>,\n",
       " <a href=\"javascript:melon.play.playSong('1000002721',36440243);\" title=\"사랑..그게 뭔데 재생\">사랑..그게 뭔데</a>,\n",
       " <a href=\"javascript:melon.play.playSong('1000002721',30444778);\" title=\"민들레 (single ver.) 재생\">민들레 (single ver.)</a>,\n",
       " <a href=\"javascript:melon.play.playSong('1000002721',36206259);\" title=\"Cupid 재생\">Cupid</a>,\n",
       " <a href=\"javascript:melon.play.playSong('1000002721',36546894);\" title=\"ISTJ 재생\">ISTJ</a>,\n",
       " <a href=\"javascript:melon.play.playSong('1000002721',36480197);\" title=\"첫 키스에 내 심장은 120BPM 재생\">첫 키스에 내 심장은 120BPM</a>,\n",
       " <a href=\"javascript:melon.play.playSong('1000002721',36710375);\" title=\"Better Things 재생\">Better Things</a>,\n",
       " <a href=\"javascript:melon.play.playSong('1000002721',36635524);\" title=\"ASAP 재생\">ASAP</a>,\n",
       " <a href=\"javascript:melon.play.playSong('1000002721',36241824);\" title=\"on the street (with J. Cole) 재생\">on the street (with J. Cole)</a>,\n",
       " <a href=\"javascript:melon.play.playSong('1000002721',36637828);\" title=\"여름이 들려 (Summer Comes) 재생\">여름이 들려 (Summer Comes)</a>]"
      ]
     },
     "execution_count": 4,
     "metadata": {},
     "output_type": "execute_result"
    }
   ],
   "source": [
    "# 3. 노래제목 수집\n",
    "# soup.select(\"div.ellipsis rank01 > span > a\")\n",
    "# 선택자 내에서 띄어쓰기는 자손을 의미 -> 안나와\n",
    "# 클래스값 중간에 공백이 있다 : 클래스가 복수개!!\n",
    "# 클래스 하나하나 명시 (.으로)해줘야 함\n",
    "# 클래스가 여러개일 때는 공백을 지우고 반드시 .으로 이어줌\n",
    "song = soup.select(\"div.ellipsis.rank01 > span > a\")\n",
    "# copy selector 사용 : \n",
    "# data = soup.select(\"#lst50 > td > div > div > div > span > a\")\n",
    "# for i in data:\n",
    "#     print(i.text)\n",
    "song"
   ]
  },
  {
   "cell_type": "code",
   "execution_count": 5,
   "id": "5e7e52ec",
   "metadata": {},
   "outputs": [
    {
     "data": {
      "text/plain": [
       "100"
      ]
     },
     "execution_count": 5,
     "metadata": {},
     "output_type": "execute_result"
    }
   ],
   "source": [
    "len(song)"
   ]
  },
  {
   "cell_type": "code",
   "execution_count": 6,
   "id": "c89fbcff",
   "metadata": {},
   "outputs": [
    {
     "data": {
      "text/plain": [
       "[<a href=\"javascript:melon.link.goArtistDetail('712452');\" title=\"AKMU (악뮤) - 페이지 이동\">AKMU (악뮤)</a>,\n",
       " <a href=\"javascript:melon.link.goArtistDetail('712452');\" title=\"AKMU (악뮤) - 페이지 이동\">AKMU (악뮤)</a>,\n",
       " <a href=\"javascript:melon.link.goArtistDetail('725987');\" title=\"정국 - 페이지 이동\">정국</a>,\n",
       " <a href=\"javascript:melon.link.goArtistDetail('108358');\" title=\"다이나믹 듀오 - 페이지 이동\">다이나믹 듀오</a>,\n",
       " <a href=\"javascript:melon.link.goArtistDetail('2636153');\" title=\"이영지 - 페이지 이동\">이영지</a>,\n",
       " <a href=\"javascript:melon.link.goArtistDetail('3114174');\" title=\"NewJeans - 페이지 이동\">NewJeans</a>,\n",
       " <a href=\"javascript:melon.link.goArtistDetail('3114174');\" title=\"NewJeans - 페이지 이동\">NewJeans</a>,\n",
       " <a href=\"javascript:melon.link.goArtistDetail('968260');\" title=\"전소미 - 페이지 이동\">전소미</a>,\n",
       " <a href=\"javascript:melon.link.goArtistDetail('673033');\" title=\"우디 (Woody) - 페이지 이동\">우디 (Woody)</a>,\n",
       " <a href=\"javascript:melon.link.goArtistDetail('738480');\" title=\"박재정 - 페이지 이동\">박재정</a>,\n",
       " <a href=\"javascript:melon.link.goArtistDetail('756531');\" title=\"화사 (HWASA) - 페이지 이동\">화사 (HWASA)</a>,\n",
       " <a href=\"javascript:melon.link.goArtistDetail('3055146');\" title=\"IVE (아이브) - 페이지 이동\">IVE (아이브)</a>,\n",
       " <a href=\"javascript:melon.link.goArtistDetail('994944');\" title=\"임영웅 - 페이지 이동\">임영웅</a>,\n",
       " <a href=\"javascript:melon.link.goArtistDetail('2899290');\" title=\"STAYC(스테이씨) - 페이지 이동\">STAYC(스테이씨)</a>,\n",
       " <a href=\"javascript:melon.link.goArtistDetail('994944');\" title=\"임영웅 - 페이지 이동\">임영웅</a>,\n",
       " <a href=\"javascript:melon.link.goArtistDetail('2137482');\" title=\"(여자)아이들 - 페이지 이동\">(여자)아이들</a>,\n",
       " <a href=\"javascript:melon.link.goArtistDetail('994944');\" title=\"임영웅 - 페이지 이동\">임영웅</a>,\n",
       " <a href=\"javascript:melon.link.goArtistDetail('725987');\" title=\"정국 - 페이지 이동\">정국</a>,\n",
       " <a href=\"javascript:melon.link.goArtistDetail('994944');\" title=\"임영웅 - 페이지 이동\">임영웅</a>,\n",
       " <a href=\"javascript:melon.link.goArtistDetail('699632');\" title=\"로이킴 - 페이지 이동\">로이킴</a>,\n",
       " <a href=\"javascript:melon.link.goArtistDetail('3114174');\" title=\"NewJeans - 페이지 이동\">NewJeans</a>,\n",
       " <a href=\"javascript:melon.link.goArtistDetail('1956543');\" title=\"Lauv - 페이지 이동\">Lauv</a>,\n",
       " <a href=\"javascript:melon.link.goArtistDetail('3092950');\" title=\"LE SSERAFIM (르세라핌) - 페이지 이동\">LE SSERAFIM (르세라핌)</a>,\n",
       " <a href=\"javascript:melon.link.goArtistDetail('994944');\" title=\"임영웅 - 페이지 이동\">임영웅</a>,\n",
       " <a href=\"javascript:melon.link.goArtistDetail('3055146');\" title=\"IVE (아이브) - 페이지 이동\">IVE (아이브)</a>,\n",
       " <a href=\"javascript:melon.link.goArtistDetail('994944');\" title=\"임영웅 - 페이지 이동\">임영웅</a>,\n",
       " <a href=\"javascript:melon.link.goArtistDetail('2899555');\" title=\"aespa - 페이지 이동\">aespa</a>,\n",
       " <a href=\"javascript:melon.link.goArtistDetail('994944');\" title=\"임영웅 - 페이지 이동\">임영웅</a>,\n",
       " <a href=\"javascript:melon.link.goArtistDetail('994944');\" title=\"임영웅 - 페이지 이동\">임영웅</a>,\n",
       " <a href=\"javascript:melon.link.goArtistDetail('3055146');\" title=\"IVE (아이브) - 페이지 이동\">IVE (아이브)</a>,\n",
       " <a href=\"javascript:melon.link.goArtistDetail('994944');\" title=\"임영웅 - 페이지 이동\">임영웅</a>,\n",
       " <a href=\"javascript:melon.link.goArtistDetail('3114174');\" title=\"NewJeans - 페이지 이동\">NewJeans</a>,\n",
       " <a href=\"javascript:melon.link.goArtistDetail('725989');\" title=\"V - 페이지 이동\">V</a>,\n",
       " <a href=\"javascript:melon.link.goArtistDetail('994944');\" title=\"임영웅 - 페이지 이동\">임영웅</a>,\n",
       " <a href=\"javascript:melon.link.goArtistDetail('3114174');\" title=\"NewJeans - 페이지 이동\">NewJeans</a>,\n",
       " <a href=\"javascript:melon.link.goArtistDetail('994944');\" title=\"임영웅 - 페이지 이동\">임영웅</a>,\n",
       " <a href=\"javascript:melon.link.goArtistDetail('3059851');\" title=\"이세계아이돌 - 페이지 이동\">이세계아이돌</a>,\n",
       " <a href=\"javascript:melon.link.goArtistDetail('994944');\" title=\"임영웅 - 페이지 이동\">임영웅</a>,\n",
       " <a href=\"javascript:melon.link.goArtistDetail('2622030');\" title=\"ITZY (있지) - 페이지 이동\">ITZY (있지)</a>,\n",
       " <a href=\"javascript:melon.link.goArtistDetail('994944');\" title=\"임영웅 - 페이지 이동\">임영웅</a>,\n",
       " <a href=\"javascript:melon.link.goArtistDetail('994944');\" title=\"임영웅 - 페이지 이동\">임영웅</a>,\n",
       " <a href=\"javascript:melon.link.goArtistDetail('943079');\" title=\"Paul Blanco - 페이지 이동\">Paul Blanco</a>,\n",
       " <a href=\"javascript:melon.link.goArtistDetail('3092950');\" title=\"LE SSERAFIM (르세라핌) - 페이지 이동\">LE SSERAFIM (르세라핌)</a>,\n",
       " <a href=\"javascript:melon.link.goArtistDetail('3055146');\" title=\"IVE (아이브) - 페이지 이동\">IVE (아이브)</a>,\n",
       " <a href=\"javascript:melon.link.goArtistDetail('3305');\" title=\"성시경 - 페이지 이동\">성시경</a>,\n",
       " <a href=\"javascript:melon.link.goArtistDetail('203912');\" title=\"윤하 (YOUNHA) - 페이지 이동\">윤하 (YOUNHA)</a>,\n",
       " <a href=\"javascript:melon.link.goArtistDetail('672375');\" title=\"방탄소년단 - 페이지 이동\">방탄소년단</a>,\n",
       " <a href=\"javascript:melon.link.goArtistDetail('2744750');\" title=\"BIG Naughty (서동현) - 페이지 이동\">BIG Naughty (서동현)</a>,\n",
       " <a href=\"javascript:melon.link.goArtistDetail('712452');\" title=\"AKMU (악뮤) - 페이지 이동\">AKMU (악뮤)</a>,\n",
       " <a href=\"javascript:melon.link.goArtistDetail('2893700');\" title=\"탑현 - 페이지 이동\">탑현</a>,\n",
       " <a href=\"javascript:melon.link.goArtistDetail('994944');\" title=\"임영웅 - 페이지 이동\">임영웅</a>,\n",
       " <a href=\"javascript:melon.link.goArtistDetail('3055146');\" title=\"IVE (아이브) - 페이지 이동\">IVE (아이브)</a>,\n",
       " <a href=\"javascript:melon.link.goArtistDetail('3114174');\" title=\"NewJeans - 페이지 이동\">NewJeans</a>,\n",
       " <a href=\"javascript:melon.link.goArtistDetail('839732');\" title=\"멜로망스 - 페이지 이동\">멜로망스</a>,\n",
       " <a href=\"javascript:melon.link.goArtistDetail('725989');\" title=\"V - 페이지 이동\">V</a>,\n",
       " <a href=\"javascript:melon.link.goArtistDetail('524801');\" title=\"DK(디셈버) - 페이지 이동\">DK(디셈버)</a>,\n",
       " <a href=\"javascript:melon.link.goArtistDetail('3114174');\" title=\"NewJeans - 페이지 이동\">NewJeans</a>,\n",
       " <a href=\"javascript:melon.link.goArtistDetail('838654');\" title=\"Charlie Puth - 페이지 이동\">Charlie Puth</a>,\n",
       " <a href=\"javascript:melon.link.goArtistDetail('672375');\" title=\"방탄소년단 - 페이지 이동\">방탄소년단</a>,\n",
       " <a href=\"javascript:melon.link.goArtistDetail('471741');\" title=\"임한별 - 페이지 이동\">임한별</a>,\n",
       " <a href=\"javascript:melon.link.goArtistDetail('672375');\" title=\"방탄소년단 - 페이지 이동\">방탄소년단</a>,\n",
       " <a href=\"javascript:melon.link.goArtistDetail('3478478');\" title=\"RIIZE - 페이지 이동\">RIIZE</a>,\n",
       " <a href=\"javascript:melon.link.goArtistDetail('725989');\" title=\"V - 페이지 이동\">V</a>,\n",
       " <a href=\"javascript:melon.link.goArtistDetail('861436');\" title=\"세븐틴 (SEVENTEEN) - 페이지 이동\">세븐틴 (SEVENTEEN)</a>,\n",
       " <a href=\"javascript:melon.link.goArtistDetail('3055146');\" title=\"IVE (아이브) - 페이지 이동\">IVE (아이브)</a>,\n",
       " <a href=\"javascript:melon.link.goArtistDetail('725985');\" title=\"지민 - 페이지 이동\">지민</a>,\n",
       " <a href=\"javascript:melon.link.goArtistDetail('838654');\" title=\"Charlie Puth - 페이지 이동\">Charlie Puth</a>,\n",
       " <a href=\"javascript:melon.link.goArtistDetail('995174');\" title=\"지수 (JISOO) - 페이지 이동\">지수 (JISOO)</a>,\n",
       " <a href=\"javascript:melon.link.goArtistDetail('672375');\" title=\"방탄소년단 - 페이지 이동\">방탄소년단</a>,\n",
       " <a href=\"javascript:melon.link.goArtistDetail('725987');\" title=\"정국 - 페이지 이동\">정국</a>,\n",
       " <a href=\"javascript:melon.link.goArtistDetail('672375');\" title=\"방탄소년단 - 페이지 이동\">방탄소년단</a>,\n",
       " <a href=\"javascript:melon.link.goArtistDetail('3114174');\" title=\"NewJeans - 페이지 이동\">NewJeans</a>,\n",
       " <a href=\"javascript:melon.link.goArtistDetail('839736');\" title=\"김민석 (멜로망스) - 페이지 이동\">김민석 (멜로망스)</a>,\n",
       " <a href=\"javascript:melon.link.goArtistDetail('960278');\" title=\"NCT U - 페이지 이동\">NCT U</a>,\n",
       " <a href=\"javascript:melon.link.goArtistDetail('2112233');\" title=\"부석순 (SEVENTEEN) - 페이지 이동\">부석순 (SEVENTEEN)</a>,\n",
       " <a href=\"javascript:melon.link.goArtistDetail('674710');\" title=\"Crush - 페이지 이동\">Crush</a>,\n",
       " <a href=\"javascript:melon.link.goArtistDetail('2899290');\" title=\"STAYC(스테이씨) - 페이지 이동\">STAYC(스테이씨)</a>,\n",
       " <a href=\"javascript:melon.link.goArtistDetail('725988');\" title=\"Agust D - 페이지 이동\">Agust D</a>,\n",
       " <a href=\"javascript:melon.link.goArtistDetail('2863470');\" title=\"경서예지 - 페이지 이동\">경서예지</a>,\n",
       " <a href=\"javascript:melon.link.goArtistDetail('2739011');\" title=\"전건호 - 페이지 이동\">전건호</a>,\n",
       " <a href=\"javascript:melon.link.goArtistDetail('2743730');\" title=\"The Kid LAROI - 페이지 이동\">The Kid LAROI</a>,\n",
       " <a href=\"javascript:melon.link.goArtistDetail('420621');\" title=\"Justin Bieber - 페이지 이동\">Justin Bieber</a>,\n",
       " <a href=\"javascript:melon.link.goArtistDetail('428803');\" title=\"김연지 - 페이지 이동\">김연지</a>,\n",
       " <a href=\"javascript:melon.link.goArtistDetail('524801');\" title=\"DK(디셈버) - 페이지 이동\">DK(디셈버)</a>,\n",
       " <a href=\"javascript:melon.link.goArtistDetail('1024489');\" title=\"#안녕 - 페이지 이동\">#안녕</a>,\n",
       " <a href=\"javascript:melon.link.goArtistDetail('858125');\" title=\"케이시 (Kassy) - 페이지 이동\">케이시 (Kassy)</a>,\n",
       " <a href=\"javascript:melon.link.goArtistDetail('3064111');\" title=\"H1-KEY (하이키) - 페이지 이동\">H1-KEY (하이키)</a>,\n",
       " <a href=\"javascript:melon.link.goArtistDetail('28801');\" title=\"허각 - 페이지 이동\">허각</a>,\n",
       " <a href=\"javascript:melon.link.goArtistDetail('772253');\" title=\"잔나비 - 페이지 이동\">잔나비</a>,\n",
       " <a href=\"javascript:melon.link.goArtistDetail('3092950');\" title=\"LE SSERAFIM (르세라핌) - 페이지 이동\">LE SSERAFIM (르세라핌)</a>,\n",
       " <a href=\"javascript:melon.link.goArtistDetail('720018');\" title=\"김호중 - 페이지 이동\">김호중</a>,\n",
       " <a href=\"javascript:melon.link.goArtistDetail('484881');\" title=\"제이세라 - 페이지 이동\">제이세라</a>,\n",
       " <a href=\"javascript:melon.link.goArtistDetail('672853');\" title=\"디오 (D.O.) - 페이지 이동\">디오 (D.O.)</a>,\n",
       " <a href=\"javascript:melon.link.goArtistDetail('1066419');\" title=\"NCT DREAM - 페이지 이동\">NCT DREAM</a>,\n",
       " <a href=\"javascript:melon.link.goArtistDetail('672853');\" title=\"디오 (D.O.) - 페이지 이동\">디오 (D.O.)</a>,\n",
       " <a href=\"javascript:melon.link.goArtistDetail('2138620');\" title=\"이무진 - 페이지 이동\">이무진</a>,\n",
       " <a href=\"javascript:melon.link.goArtistDetail('227595');\" title=\"지아 - 페이지 이동\">지아</a>,\n",
       " <a href=\"javascript:melon.link.goArtistDetail('773385');\" title=\"우효 - 페이지 이동\">우효</a>,\n",
       " <a href=\"javascript:melon.link.goArtistDetail('3156910');\" title=\"FIFTY FIFTY - 페이지 이동\">FIFTY FIFTY</a>,\n",
       " <a href=\"javascript:melon.link.goArtistDetail('1066419');\" title=\"NCT DREAM - 페이지 이동\">NCT DREAM</a>,\n",
       " <a href=\"javascript:melon.link.goArtistDetail('994005');\" title=\"경서 - 페이지 이동\">경서</a>,\n",
       " <a href=\"javascript:melon.link.goArtistDetail('2899555');\" title=\"aespa - 페이지 이동\">aespa</a>,\n",
       " <a href=\"javascript:melon.link.goArtistDetail('3114174');\" title=\"NewJeans - 페이지 이동\">NewJeans</a>,\n",
       " <a href=\"javascript:melon.link.goArtistDetail('725984');\" title=\"j-hope - 페이지 이동\">j-hope</a>,\n",
       " <a href=\"javascript:melon.link.goArtistDetail('552102');\" title=\"J. Cole - 페이지 이동\">J. Cole</a>,\n",
       " <a href=\"javascript:melon.link.goArtistDetail('857994');\" title=\"오마이걸 (OH MY GIRL) - 페이지 이동\">오마이걸 (OH MY GIRL)</a>]"
      ]
     },
     "execution_count": 6,
     "metadata": {},
     "output_type": "execute_result"
    }
   ],
   "source": [
    "# 4. 가수이름 수집\n",
    "exSinger = soup.select(\"div.ellipsis.rank02 > span > a\")\n",
    "exSinger"
   ]
  },
  {
   "cell_type": "code",
   "execution_count": 7,
   "id": "120f1c5b",
   "metadata": {},
   "outputs": [
    {
     "data": {
      "text/plain": [
       "106"
      ]
     },
     "execution_count": 7,
     "metadata": {},
     "output_type": "execute_result"
    }
   ],
   "source": [
    "# 데이터의 개수가 정해진 경우에는 반드시 데이터 검증이 필요함!!\n",
    "# 데이터의 길이, 데이터 개수\n",
    "len(exSinger)"
   ]
  },
  {
   "attachments": {
    "image.png": {
     "image/png": "[encoded data removed]"
    }
   },
   "cell_type": "markdown",
   "id": "ce857017",
   "metadata": {},
   "source": [
    "![image.png](attachment:image.png)\n",
    "#### div를 통째로 들고 오면 a태그 하나, span태그 안에 있는 a태그 하나 : 글자가 두번 추출됨\n",
    "      -> soup.select(\"div.ellipsis.rank02 > span.checkEllipsis\")"
   ]
  },
  {
   "cell_type": "code",
   "execution_count": 8,
   "id": "fec309ac",
   "metadata": {
    "scrolled": false
   },
   "outputs": [
    {
     "data": {
      "text/plain": [
       "[<span class=\"checkEllipsis\" style=\"display:none\"><a href=\"javascript:melon.link.goArtistDetail('712452');\" title=\"AKMU (악뮤) - 페이지 이동\">AKMU (악뮤)</a></span>,\n",
       " <span class=\"checkEllipsis\" style=\"display:none\"><a href=\"javascript:melon.link.goArtistDetail('712452');\" title=\"AKMU (악뮤) - 페이지 이동\">AKMU (악뮤)</a></span>,\n",
       " <span class=\"checkEllipsis\" style=\"display:none\"><a href=\"javascript:melon.link.goArtistDetail('725987');\" title=\"정국 - 페이지 이동\">정국</a></span>,\n",
       " <span class=\"checkEllipsis\" style=\"display:none\"><a href=\"javascript:melon.link.goArtistDetail('108358');\" title=\"다이나믹 듀오 - 페이지 이동\">다이나믹 듀오</a>, <a href=\"javascript:melon.link.goArtistDetail('2636153');\" title=\"이영지 - 페이지 이동\">이영지</a></span>,\n",
       " <span class=\"checkEllipsis\" style=\"display:none\"><a href=\"javascript:melon.link.goArtistDetail('3114174');\" title=\"NewJeans - 페이지 이동\">NewJeans</a></span>,\n",
       " <span class=\"checkEllipsis\" style=\"display:none\"><a href=\"javascript:melon.link.goArtistDetail('3114174');\" title=\"NewJeans - 페이지 이동\">NewJeans</a></span>,\n",
       " <span class=\"checkEllipsis\" style=\"display:none\"><a href=\"javascript:melon.link.goArtistDetail('968260');\" title=\"전소미 - 페이지 이동\">전소미</a></span>,\n",
       " <span class=\"checkEllipsis\" style=\"display:none\"><a href=\"javascript:melon.link.goArtistDetail('673033');\" title=\"우디 (Woody) - 페이지 이동\">우디 (Woody)</a></span>,\n",
       " <span class=\"checkEllipsis\" style=\"display:none\"><a href=\"javascript:melon.link.goArtistDetail('738480');\" title=\"박재정 - 페이지 이동\">박재정</a></span>,\n",
       " <span class=\"checkEllipsis\" style=\"display:none\"><a href=\"javascript:melon.link.goArtistDetail('756531');\" title=\"화사 (HWASA) - 페이지 이동\">화사 (HWASA)</a></span>,\n",
       " <span class=\"checkEllipsis\" style=\"display:none\"><a href=\"javascript:melon.link.goArtistDetail('3055146');\" title=\"IVE (아이브) - 페이지 이동\">IVE (아이브)</a></span>,\n",
       " <span class=\"checkEllipsis\" style=\"display:none\"><a href=\"javascript:melon.link.goArtistDetail('994944');\" title=\"임영웅 - 페이지 이동\">임영웅</a></span>,\n",
       " <span class=\"checkEllipsis\" style=\"display:none\"><a href=\"javascript:melon.link.goArtistDetail('2899290');\" title=\"STAYC(스테이씨) - 페이지 이동\">STAYC(스테이씨)</a></span>,\n",
       " <span class=\"checkEllipsis\" style=\"display:none\"><a href=\"javascript:melon.link.goArtistDetail('994944');\" title=\"임영웅 - 페이지 이동\">임영웅</a></span>,\n",
       " <span class=\"checkEllipsis\" style=\"display:none\"><a href=\"javascript:melon.link.goArtistDetail('2137482');\" title=\"(여자)아이들 - 페이지 이동\">(여자)아이들</a></span>,\n",
       " <span class=\"checkEllipsis\" style=\"display:none\"><a href=\"javascript:melon.link.goArtistDetail('994944');\" title=\"임영웅 - 페이지 이동\">임영웅</a></span>,\n",
       " <span class=\"checkEllipsis\" style=\"display:none\"><a href=\"javascript:melon.link.goArtistDetail('725987');\" title=\"정국 - 페이지 이동\">정국</a></span>,\n",
       " <span class=\"checkEllipsis\" style=\"display:none\"><a href=\"javascript:melon.link.goArtistDetail('994944');\" title=\"임영웅 - 페이지 이동\">임영웅</a></span>,\n",
       " <span class=\"checkEllipsis\" style=\"display:none\"><a href=\"javascript:melon.link.goArtistDetail('699632');\" title=\"로이킴 - 페이지 이동\">로이킴</a></span>,\n",
       " <span class=\"checkEllipsis\" style=\"display:none\"><a href=\"javascript:melon.link.goArtistDetail('3114174');\" title=\"NewJeans - 페이지 이동\">NewJeans</a></span>,\n",
       " <span class=\"checkEllipsis\" style=\"display:none\"><a href=\"javascript:melon.link.goArtistDetail('1956543');\" title=\"Lauv - 페이지 이동\">Lauv</a></span>,\n",
       " <span class=\"checkEllipsis\" style=\"display:none\"><a href=\"javascript:melon.link.goArtistDetail('3092950');\" title=\"LE SSERAFIM (르세라핌) - 페이지 이동\">LE SSERAFIM (르세라핌)</a></span>,\n",
       " <span class=\"checkEllipsis\" style=\"display:none\"><a href=\"javascript:melon.link.goArtistDetail('994944');\" title=\"임영웅 - 페이지 이동\">임영웅</a></span>,\n",
       " <span class=\"checkEllipsis\" style=\"display:none\"><a href=\"javascript:melon.link.goArtistDetail('3055146');\" title=\"IVE (아이브) - 페이지 이동\">IVE (아이브)</a></span>,\n",
       " <span class=\"checkEllipsis\" style=\"display:none\"><a href=\"javascript:melon.link.goArtistDetail('994944');\" title=\"임영웅 - 페이지 이동\">임영웅</a></span>,\n",
       " <span class=\"checkEllipsis\" style=\"display:none\"><a href=\"javascript:melon.link.goArtistDetail('2899555');\" title=\"aespa - 페이지 이동\">aespa</a></span>,\n",
       " <span class=\"checkEllipsis\" style=\"display:none\"><a href=\"javascript:melon.link.goArtistDetail('994944');\" title=\"임영웅 - 페이지 이동\">임영웅</a></span>,\n",
       " <span class=\"checkEllipsis\" style=\"display:none\"><a href=\"javascript:melon.link.goArtistDetail('994944');\" title=\"임영웅 - 페이지 이동\">임영웅</a></span>,\n",
       " <span class=\"checkEllipsis\" style=\"display:none\"><a href=\"javascript:melon.link.goArtistDetail('3055146');\" title=\"IVE (아이브) - 페이지 이동\">IVE (아이브)</a></span>,\n",
       " <span class=\"checkEllipsis\" style=\"display:none\"><a href=\"javascript:melon.link.goArtistDetail('994944');\" title=\"임영웅 - 페이지 이동\">임영웅</a></span>,\n",
       " <span class=\"checkEllipsis\" style=\"display:none\"><a href=\"javascript:melon.link.goArtistDetail('3114174');\" title=\"NewJeans - 페이지 이동\">NewJeans</a></span>,\n",
       " <span class=\"checkEllipsis\" style=\"display:none\"><a href=\"javascript:melon.link.goArtistDetail('725989');\" title=\"V - 페이지 이동\">V</a></span>,\n",
       " <span class=\"checkEllipsis\" style=\"display:none\"><a href=\"javascript:melon.link.goArtistDetail('994944');\" title=\"임영웅 - 페이지 이동\">임영웅</a></span>,\n",
       " <span class=\"checkEllipsis\" style=\"display:none\"><a href=\"javascript:melon.link.goArtistDetail('3114174');\" title=\"NewJeans - 페이지 이동\">NewJeans</a></span>,\n",
       " <span class=\"checkEllipsis\" style=\"display:none\"><a href=\"javascript:melon.link.goArtistDetail('994944');\" title=\"임영웅 - 페이지 이동\">임영웅</a></span>,\n",
       " <span class=\"checkEllipsis\" style=\"display:none\"><a href=\"javascript:melon.link.goArtistDetail('3059851');\" title=\"이세계아이돌 - 페이지 이동\">이세계아이돌</a></span>,\n",
       " <span class=\"checkEllipsis\" style=\"display:none\"><a href=\"javascript:melon.link.goArtistDetail('994944');\" title=\"임영웅 - 페이지 이동\">임영웅</a></span>,\n",
       " <span class=\"checkEllipsis\" style=\"display:none\"><a href=\"javascript:melon.link.goArtistDetail('2622030');\" title=\"ITZY (있지) - 페이지 이동\">ITZY (있지)</a></span>,\n",
       " <span class=\"checkEllipsis\" style=\"display:none\"><a href=\"javascript:melon.link.goArtistDetail('994944');\" title=\"임영웅 - 페이지 이동\">임영웅</a></span>,\n",
       " <span class=\"checkEllipsis\" style=\"display:none\"><a href=\"javascript:melon.link.goArtistDetail('994944');\" title=\"임영웅 - 페이지 이동\">임영웅</a></span>,\n",
       " <span class=\"checkEllipsis\" style=\"display:none\"><a href=\"javascript:melon.link.goArtistDetail('943079');\" title=\"Paul Blanco - 페이지 이동\">Paul Blanco</a></span>,\n",
       " <span class=\"checkEllipsis\" style=\"display:none\"><a href=\"javascript:melon.link.goArtistDetail('3092950');\" title=\"LE SSERAFIM (르세라핌) - 페이지 이동\">LE SSERAFIM (르세라핌)</a></span>,\n",
       " <span class=\"checkEllipsis\" style=\"display:none\"><a href=\"javascript:melon.link.goArtistDetail('3055146');\" title=\"IVE (아이브) - 페이지 이동\">IVE (아이브)</a></span>,\n",
       " <span class=\"checkEllipsis\" style=\"display:none\"><a href=\"javascript:melon.link.goArtistDetail('3305');\" title=\"성시경 - 페이지 이동\">성시경</a></span>,\n",
       " <span class=\"checkEllipsis\" style=\"display:none\"><a href=\"javascript:melon.link.goArtistDetail('203912');\" title=\"윤하 (YOUNHA) - 페이지 이동\">윤하 (YOUNHA)</a></span>,\n",
       " <span class=\"checkEllipsis\" style=\"display:none\"><a href=\"javascript:melon.link.goArtistDetail('672375');\" title=\"방탄소년단 - 페이지 이동\">방탄소년단</a></span>,\n",
       " <span class=\"checkEllipsis\" style=\"display:none\"><a href=\"javascript:melon.link.goArtistDetail('2744750');\" title=\"BIG Naughty (서동현) - 페이지 이동\">BIG Naughty (서동현)</a></span>,\n",
       " <span class=\"checkEllipsis\" style=\"display:none\"><a href=\"javascript:melon.link.goArtistDetail('712452');\" title=\"AKMU (악뮤) - 페이지 이동\">AKMU (악뮤)</a></span>,\n",
       " <span class=\"checkEllipsis\" style=\"display:none\"><a href=\"javascript:melon.link.goArtistDetail('2893700');\" title=\"탑현 - 페이지 이동\">탑현</a></span>,\n",
       " <span class=\"checkEllipsis\" style=\"display:none\"><a href=\"javascript:melon.link.goArtistDetail('994944');\" title=\"임영웅 - 페이지 이동\">임영웅</a></span>,\n",
       " <span class=\"checkEllipsis\" style=\"display:none\"><a href=\"javascript:melon.link.goArtistDetail('3055146');\" title=\"IVE (아이브) - 페이지 이동\">IVE (아이브)</a></span>,\n",
       " <span class=\"checkEllipsis\" style=\"display:none\"><a href=\"javascript:melon.link.goArtistDetail('3114174');\" title=\"NewJeans - 페이지 이동\">NewJeans</a></span>,\n",
       " <span class=\"checkEllipsis\" style=\"display:none\"><a href=\"javascript:melon.link.goArtistDetail('839732');\" title=\"멜로망스 - 페이지 이동\">멜로망스</a></span>,\n",
       " <span class=\"checkEllipsis\" style=\"display:none\"><a href=\"javascript:melon.link.goArtistDetail('725989');\" title=\"V - 페이지 이동\">V</a></span>,\n",
       " <span class=\"checkEllipsis\" style=\"display:none\"><a href=\"javascript:melon.link.goArtistDetail('524801');\" title=\"DK(디셈버) - 페이지 이동\">DK(디셈버)</a></span>,\n",
       " <span class=\"checkEllipsis\" style=\"display:none\"><a href=\"javascript:melon.link.goArtistDetail('3114174');\" title=\"NewJeans - 페이지 이동\">NewJeans</a></span>,\n",
       " <span class=\"checkEllipsis\" style=\"display:none\"><a href=\"javascript:melon.link.goArtistDetail('838654');\" title=\"Charlie Puth - 페이지 이동\">Charlie Puth</a></span>,\n",
       " <span class=\"checkEllipsis\" style=\"display:none\"><a href=\"javascript:melon.link.goArtistDetail('672375');\" title=\"방탄소년단 - 페이지 이동\">방탄소년단</a></span>,\n",
       " <span class=\"checkEllipsis\" style=\"display:none\"><a href=\"javascript:melon.link.goArtistDetail('471741');\" title=\"임한별 - 페이지 이동\">임한별</a></span>,\n",
       " <span class=\"checkEllipsis\" style=\"display:none\"><a href=\"javascript:melon.link.goArtistDetail('672375');\" title=\"방탄소년단 - 페이지 이동\">방탄소년단</a></span>,\n",
       " <span class=\"checkEllipsis\" style=\"display:none\"><a href=\"javascript:melon.link.goArtistDetail('3478478');\" title=\"RIIZE - 페이지 이동\">RIIZE</a></span>,\n",
       " <span class=\"checkEllipsis\" style=\"display:none\"><a href=\"javascript:melon.link.goArtistDetail('725989');\" title=\"V - 페이지 이동\">V</a></span>,\n",
       " <span class=\"checkEllipsis\" style=\"display:none\"><a href=\"javascript:melon.link.goArtistDetail('861436');\" title=\"세븐틴 (SEVENTEEN) - 페이지 이동\">세븐틴 (SEVENTEEN)</a></span>,\n",
       " <span class=\"checkEllipsis\" style=\"display:none\"><a href=\"javascript:melon.link.goArtistDetail('3055146');\" title=\"IVE (아이브) - 페이지 이동\">IVE (아이브)</a></span>,\n",
       " <span class=\"checkEllipsis\" style=\"display:none\"><a href=\"javascript:melon.link.goArtistDetail('725985');\" title=\"지민 - 페이지 이동\">지민</a></span>,\n",
       " <span class=\"checkEllipsis\" style=\"display:none\"><a href=\"javascript:melon.link.goArtistDetail('838654');\" title=\"Charlie Puth - 페이지 이동\">Charlie Puth</a></span>,\n",
       " <span class=\"checkEllipsis\" style=\"display:none\"><a href=\"javascript:melon.link.goArtistDetail('995174');\" title=\"지수 (JISOO) - 페이지 이동\">지수 (JISOO)</a></span>,\n",
       " <span class=\"checkEllipsis\" style=\"display:none\"><a href=\"javascript:melon.link.goArtistDetail('672375');\" title=\"방탄소년단 - 페이지 이동\">방탄소년단</a></span>,\n",
       " <span class=\"checkEllipsis\" style=\"display:none\"><a href=\"javascript:melon.link.goArtistDetail('725987');\" title=\"정국 - 페이지 이동\">정국</a>, <a href=\"javascript:melon.link.goArtistDetail('672375');\" title=\"방탄소년단 - 페이지 이동\">방탄소년단</a></span>,\n",
       " <span class=\"checkEllipsis\" style=\"display:none\"><a href=\"javascript:melon.link.goArtistDetail('3114174');\" title=\"NewJeans - 페이지 이동\">NewJeans</a></span>,\n",
       " <span class=\"checkEllipsis\" style=\"display:none\"><a href=\"javascript:melon.link.goArtistDetail('839736');\" title=\"김민석 (멜로망스) - 페이지 이동\">김민석 (멜로망스)</a></span>,\n",
       " <span class=\"checkEllipsis\" style=\"display:none\"><a href=\"javascript:melon.link.goArtistDetail('960278');\" title=\"NCT U - 페이지 이동\">NCT U</a></span>,\n",
       " <span class=\"checkEllipsis\" style=\"display:none\"><a href=\"javascript:melon.link.goArtistDetail('2112233');\" title=\"부석순 (SEVENTEEN) - 페이지 이동\">부석순 (SEVENTEEN)</a></span>,\n",
       " <span class=\"checkEllipsis\" style=\"display:none\"><a href=\"javascript:melon.link.goArtistDetail('674710');\" title=\"Crush - 페이지 이동\">Crush</a></span>,\n",
       " <span class=\"checkEllipsis\" style=\"display:none\"><a href=\"javascript:melon.link.goArtistDetail('2899290');\" title=\"STAYC(스테이씨) - 페이지 이동\">STAYC(스테이씨)</a></span>,\n",
       " <span class=\"checkEllipsis\" style=\"display:none\"><a href=\"javascript:melon.link.goArtistDetail('725988');\" title=\"Agust D - 페이지 이동\">Agust D</a></span>,\n",
       " <span class=\"checkEllipsis\" style=\"display:none\"><a href=\"javascript:melon.link.goArtistDetail('2863470');\" title=\"경서예지 - 페이지 이동\">경서예지</a>, <a href=\"javascript:melon.link.goArtistDetail('2739011');\" title=\"전건호 - 페이지 이동\">전건호</a></span>,\n",
       " <span class=\"checkEllipsis\" style=\"display:none\"><a href=\"javascript:melon.link.goArtistDetail('2743730');\" title=\"The Kid LAROI - 페이지 이동\">The Kid LAROI</a>, <a href=\"javascript:melon.link.goArtistDetail('420621');\" title=\"Justin Bieber - 페이지 이동\">Justin Bieber</a></span>,\n",
       " <span class=\"checkEllipsis\" style=\"display:none\"><a href=\"javascript:melon.link.goArtistDetail('428803');\" title=\"김연지 - 페이지 이동\">김연지</a>, <a href=\"javascript:melon.link.goArtistDetail('524801');\" title=\"DK(디셈버) - 페이지 이동\">DK(디셈버)</a></span>,\n",
       " <span class=\"checkEllipsis\" style=\"display:none\"><a href=\"javascript:melon.link.goArtistDetail('1024489');\" title=\"#안녕 - 페이지 이동\">#안녕</a></span>,\n",
       " <span class=\"checkEllipsis\" style=\"display:none\"><a href=\"javascript:melon.link.goArtistDetail('858125');\" title=\"케이시 (Kassy) - 페이지 이동\">케이시 (Kassy)</a></span>,\n",
       " <span class=\"checkEllipsis\" style=\"display:none\"><a href=\"javascript:melon.link.goArtistDetail('3064111');\" title=\"H1-KEY (하이키) - 페이지 이동\">H1-KEY (하이키)</a></span>,\n",
       " <span class=\"checkEllipsis\" style=\"display:none\"><a href=\"javascript:melon.link.goArtistDetail('28801');\" title=\"허각 - 페이지 이동\">허각</a></span>,\n",
       " <span class=\"checkEllipsis\" style=\"display:none\"><a href=\"javascript:melon.link.goArtistDetail('772253');\" title=\"잔나비 - 페이지 이동\">잔나비</a></span>,\n",
       " <span class=\"checkEllipsis\" style=\"display:none\"><a href=\"javascript:melon.link.goArtistDetail('3092950');\" title=\"LE SSERAFIM (르세라핌) - 페이지 이동\">LE SSERAFIM (르세라핌)</a></span>,\n",
       " <span class=\"checkEllipsis\" style=\"display:none\"><a href=\"javascript:melon.link.goArtistDetail('720018');\" title=\"김호중 - 페이지 이동\">김호중</a></span>,\n",
       " <span class=\"checkEllipsis\" style=\"display:none\"><a href=\"javascript:melon.link.goArtistDetail('484881');\" title=\"제이세라 - 페이지 이동\">제이세라</a></span>,\n",
       " <span class=\"checkEllipsis\" style=\"display:none\"><a href=\"javascript:melon.link.goArtistDetail('672853');\" title=\"디오 (D.O.) - 페이지 이동\">디오 (D.O.)</a></span>,\n",
       " <span class=\"checkEllipsis\" style=\"display:none\"><a href=\"javascript:melon.link.goArtistDetail('1066419');\" title=\"NCT DREAM - 페이지 이동\">NCT DREAM</a></span>,\n",
       " <span class=\"checkEllipsis\" style=\"display:none\"><a href=\"javascript:melon.link.goArtistDetail('672853');\" title=\"디오 (D.O.) - 페이지 이동\">디오 (D.O.)</a></span>,\n",
       " <span class=\"checkEllipsis\" style=\"display:none\"><a href=\"javascript:melon.link.goArtistDetail('2138620');\" title=\"이무진 - 페이지 이동\">이무진</a></span>,\n",
       " <span class=\"checkEllipsis\" style=\"display:none\"><a href=\"javascript:melon.link.goArtistDetail('227595');\" title=\"지아 - 페이지 이동\">지아</a></span>,\n",
       " <span class=\"checkEllipsis\" style=\"display:none\"><a href=\"javascript:melon.link.goArtistDetail('773385');\" title=\"우효 - 페이지 이동\">우효</a></span>,\n",
       " <span class=\"checkEllipsis\" style=\"display:none\"><a href=\"javascript:melon.link.goArtistDetail('3156910');\" title=\"FIFTY FIFTY - 페이지 이동\">FIFTY FIFTY</a></span>,\n",
       " <span class=\"checkEllipsis\" style=\"display:none\"><a href=\"javascript:melon.link.goArtistDetail('1066419');\" title=\"NCT DREAM - 페이지 이동\">NCT DREAM</a></span>,\n",
       " <span class=\"checkEllipsis\" style=\"display:none\"><a href=\"javascript:melon.link.goArtistDetail('994005');\" title=\"경서 - 페이지 이동\">경서</a></span>,\n",
       " <span class=\"checkEllipsis\" style=\"display:none\"><a href=\"javascript:melon.link.goArtistDetail('2899555');\" title=\"aespa - 페이지 이동\">aespa</a></span>,\n",
       " <span class=\"checkEllipsis\" style=\"display:none\"><a href=\"javascript:melon.link.goArtistDetail('3114174');\" title=\"NewJeans - 페이지 이동\">NewJeans</a></span>,\n",
       " <span class=\"checkEllipsis\" style=\"display:none\"><a href=\"javascript:melon.link.goArtistDetail('725984');\" title=\"j-hope - 페이지 이동\">j-hope</a>, <a href=\"javascript:melon.link.goArtistDetail('552102');\" title=\"J. Cole - 페이지 이동\">J. Cole</a></span>,\n",
       " <span class=\"checkEllipsis\" style=\"display:none\"><a href=\"javascript:melon.link.goArtistDetail('857994');\" title=\"오마이걸 (OH MY GIRL) - 페이지 이동\">오마이걸 (OH MY GIRL)</a></span>]"
      ]
     },
     "execution_count": 8,
     "metadata": {},
     "output_type": "execute_result"
    }
   ],
   "source": [
    "singer = soup.select(\"div.ellipsis.rank02 > span.checkEllipsis\")\n",
    "singer\n",
    "# ex) 김연지, 디셈버 : 각각 분리(a태그가 각각 : a태그가 2개)"
   ]
  },
  {
   "cell_type": "code",
   "execution_count": 15,
   "id": "8e7de608",
   "metadata": {},
   "outputs": [
    {
     "data": {
      "text/plain": [
       "100"
      ]
     },
     "execution_count": 15,
     "metadata": {},
     "output_type": "execute_result"
    }
   ],
   "source": [
    "len(singer)"
   ]
  },
  {
   "cell_type": "code",
   "execution_count": 9,
   "id": "fb1f24ce",
   "metadata": {},
   "outputs": [
    {
     "name": "stdout",
     "output_type": "stream",
     "text": [
      "['Love Lee', '후라이의 꿈', 'Seven (feat. Latto) - Clean Ver.', 'Smoke (Prod. Dynamicduo, Padi)', 'Super Shy', 'ETA', 'Fast Forward', '사막에서 꽃을 피우듯', '헤어지자 말해요', 'I Love My Body', 'I AM', '사랑은 늘 도망가', 'Bubble', '모래 알갱이', '퀸카 (Queencard)', '우리들의 블루스', 'Still With You', '다시 만날 수 있을까', '잘 지내자, 우리 (여름날 우리 X 로이킴)', 'Hype boy', 'Steal The Show (From “엘리멘탈”)', '이브, 프시케 그리고 푸른 수염의 아내', '이제 나만 믿어요', 'Either Way', '무지개', 'Spicy', '아버지', 'London Boy', 'Kitsch', 'Polaroid', 'Ditto', 'Love Me Again', '인생찬가', 'New Jeans', 'A bientot', 'KIDDING', '손이 참 곱던 그대', 'CAKE', '사랑해 진짜', '연애편지', 'Summer (Feat. BE’O (비오))', 'UNFORGIVEN (feat. Nile Rodgers)', 'After LIKE', '너의 모든 순간', '사건의 지평선', 'Dynamite', 'Vancouver 2', '어떻게 이별까지 사랑하겠어, 널 사랑하는 거지', '나에게 그대만이', '보금자리', 'LOVE DIVE', 'OMG', '사랑인가 봐', 'Slow Dancing', '심(心)', 'Attention', \"I Don't Think That I Like Her\", 'Butter', '사랑하지 않아서 그랬어', '봄날', 'Get A Guitar', 'Rainy Days', '손오공', 'I WANT', 'Like Crazy', 'Dangerously', '꽃', 'Take Two', 'Dreamers [Music from the FIFA World Cup Qatar 2022 Official Soundtrack] (Feat. FIFA Sound)', 'Cool With You', '취중고백', 'Baggy Jeans', '파이팅 해야지 (Feat. 이영지)', 'Click Like (Prod. Crush) (Feat. Paul Blanco)', 'Teddy Bear', '사람 Pt.2 (feat. 아이유)', '다정히 내 이름을 부르면', 'STAY', '미친 사랑의 노래', '해요 (2022)', '사실말야내가말야그게그러니까말이야', '건물 사이에 피어난 장미 (Rose Blossom)', '물론', '주저하는 연인들을 위해', 'ANTIFRAGILE', '그중에 그대를 만나', '사랑의 바보', '별 떨어진다 (I Do)', 'Candy', 'Somebody', '잠깐 시간 될까', '사랑..그게 뭔데', '민들레 (single ver.)', 'Cupid', 'ISTJ', '첫 키스에 내 심장은 120BPM', 'Better Things', 'ASAP', 'on the street (with J. Cole)', '여름이 들려 (Summer Comes)']\n",
      "['AKMU (악뮤)', 'AKMU (악뮤)', '정국', '다이나믹 듀오, 이영지', 'NewJeans', 'NewJeans', '전소미', '우디 (Woody)', '박재정', '화사 (HWASA)', 'IVE (아이브)', '임영웅', 'STAYC(스테이씨)', '임영웅', '(여자)아이들', '임영웅', '정국', '임영웅', '로이킴', 'NewJeans', 'Lauv', 'LE SSERAFIM (르세라핌)', '임영웅', 'IVE (아이브)', '임영웅', 'aespa', '임영웅', '임영웅', 'IVE (아이브)', '임영웅', 'NewJeans', 'V', '임영웅', 'NewJeans', '임영웅', '이세계아이돌', '임영웅', 'ITZY (있지)', '임영웅', '임영웅', 'Paul Blanco', 'LE SSERAFIM (르세라핌)', 'IVE (아이브)', '성시경', '윤하 (YOUNHA)', '방탄소년단', 'BIG Naughty (서동현)', 'AKMU (악뮤)', '탑현', '임영웅', 'IVE (아이브)', 'NewJeans', '멜로망스', 'V', 'DK(디셈버)', 'NewJeans', 'Charlie Puth', '방탄소년단', '임한별', '방탄소년단', 'RIIZE', 'V', '세븐틴 (SEVENTEEN)', 'IVE (아이브)', '지민', 'Charlie Puth', '지수 (JISOO)', '방탄소년단', '정국, 방탄소년단', 'NewJeans', '김민석 (멜로망스)', 'NCT U', '부석순 (SEVENTEEN)', 'Crush', 'STAYC(스테이씨)', 'Agust D', '경서예지, 전건호', 'The Kid LAROI, Justin Bieber', '김연지, DK(디셈버)', '#안녕', '케이시 (Kassy)', 'H1-KEY (하이키)', '허각', '잔나비', 'LE SSERAFIM (르세라핌)', '김호중', '제이세라', '디오 (D.O.)', 'NCT DREAM', '디오 (D.O.)', '이무진', '지아', '우효', 'FIFTY FIFTY', 'NCT DREAM', '경서', 'aespa', 'NewJeans', 'j-hope, J. Cole', '오마이걸 (OH MY GIRL)']\n"
     ]
    }
   ],
   "source": [
    "# 5. 수집된 데이터를 텍스트 정보만 추출해서 저장\n",
    "song_list = []\n",
    "singer_list = []\n",
    "\n",
    "for i in range(len(song)):\n",
    "    song_list.append(song[i].text)\n",
    "    singer_list.append(singer[i].text)\n",
    "\n",
    "print(song_list)\n",
    "print(singer_list)"
   ]
  },
  {
   "cell_type": "code",
   "execution_count": 10,
   "id": "0262f280",
   "metadata": {},
   "outputs": [],
   "source": [
    "# 6. 표를 제작 : pandas 이용\n",
    "import pandas as pd"
   ]
  },
  {
   "cell_type": "code",
   "execution_count": 11,
   "id": "e8fa3310",
   "metadata": {},
   "outputs": [],
   "source": [
    "dic = {'가수이름':singer_list , '노래제목':song_list}"
   ]
  },
  {
   "cell_type": "code",
   "execution_count": 12,
   "id": "f6ff5bbf",
   "metadata": {},
   "outputs": [
    {
     "data": {
      "text/html": [
       "<div>\n",
       "<style scoped>\n",
       "    .dataframe tbody tr th:only-of-type {\n",
       "        vertical-align: middle;\n",
       "    }\n",
       "\n",
       "    .dataframe tbody tr th {\n",
       "        vertical-align: top;\n",
       "    }\n",
       "\n",
       "    .dataframe thead th {\n",
       "        text-align: right;\n",
       "    }\n",
       "</style>\n",
       "<table border=\"1\" class=\"dataframe\">\n",
       "  <thead>\n",
       "    <tr style=\"text-align: right;\">\n",
       "      <th></th>\n",
       "      <th>가수이름</th>\n",
       "      <th>노래제목</th>\n",
       "    </tr>\n",
       "  </thead>\n",
       "  <tbody>\n",
       "    <tr>\n",
       "      <th>0</th>\n",
       "      <td>AKMU (악뮤)</td>\n",
       "      <td>Love Lee</td>\n",
       "    </tr>\n",
       "    <tr>\n",
       "      <th>1</th>\n",
       "      <td>AKMU (악뮤)</td>\n",
       "      <td>후라이의 꿈</td>\n",
       "    </tr>\n",
       "    <tr>\n",
       "      <th>2</th>\n",
       "      <td>정국</td>\n",
       "      <td>Seven (feat. Latto) - Clean Ver.</td>\n",
       "    </tr>\n",
       "    <tr>\n",
       "      <th>3</th>\n",
       "      <td>다이나믹 듀오, 이영지</td>\n",
       "      <td>Smoke (Prod. Dynamicduo, Padi)</td>\n",
       "    </tr>\n",
       "    <tr>\n",
       "      <th>4</th>\n",
       "      <td>NewJeans</td>\n",
       "      <td>Super Shy</td>\n",
       "    </tr>\n",
       "    <tr>\n",
       "      <th>...</th>\n",
       "      <td>...</td>\n",
       "      <td>...</td>\n",
       "    </tr>\n",
       "    <tr>\n",
       "      <th>95</th>\n",
       "      <td>경서</td>\n",
       "      <td>첫 키스에 내 심장은 120BPM</td>\n",
       "    </tr>\n",
       "    <tr>\n",
       "      <th>96</th>\n",
       "      <td>aespa</td>\n",
       "      <td>Better Things</td>\n",
       "    </tr>\n",
       "    <tr>\n",
       "      <th>97</th>\n",
       "      <td>NewJeans</td>\n",
       "      <td>ASAP</td>\n",
       "    </tr>\n",
       "    <tr>\n",
       "      <th>98</th>\n",
       "      <td>j-hope, J. Cole</td>\n",
       "      <td>on the street (with J. Cole)</td>\n",
       "    </tr>\n",
       "    <tr>\n",
       "      <th>99</th>\n",
       "      <td>오마이걸 (OH MY GIRL)</td>\n",
       "      <td>여름이 들려 (Summer Comes)</td>\n",
       "    </tr>\n",
       "  </tbody>\n",
       "</table>\n",
       "<p>100 rows × 2 columns</p>\n",
       "</div>"
      ],
      "text/plain": [
       "                 가수이름                              노래제목\n",
       "0           AKMU (악뮤)                          Love Lee\n",
       "1           AKMU (악뮤)                            후라이의 꿈\n",
       "2                  정국  Seven (feat. Latto) - Clean Ver.\n",
       "3        다이나믹 듀오, 이영지    Smoke (Prod. Dynamicduo, Padi)\n",
       "4            NewJeans                         Super Shy\n",
       "..                ...                               ...\n",
       "95                 경서                첫 키스에 내 심장은 120BPM\n",
       "96              aespa                     Better Things\n",
       "97           NewJeans                              ASAP\n",
       "98    j-hope, J. Cole      on the street (with J. Cole)\n",
       "99  오마이걸 (OH MY GIRL)             여름이 들려 (Summer Comes)\n",
       "\n",
       "[100 rows x 2 columns]"
      ]
     },
     "execution_count": 12,
     "metadata": {},
     "output_type": "execute_result"
    }
   ],
   "source": [
    "melon = pd.DataFrame(dic)\n",
    "melon"
   ]
  },
  {
   "cell_type": "code",
   "execution_count": 13,
   "id": "0d8eab16",
   "metadata": {},
   "outputs": [],
   "source": [
    "# 7. 파일로 제작\n",
    "# 인코딩 작업\n",
    "# 한글이 깨지지 않게 반드시 해줘야함\n",
    "# (1) utf-8\n",
    "# (2) euc-kr\n",
    "# (3) utf-8-sig\n",
    "melon.to_csv('멜론차트.csv' , encoding='euc-kr') "
   ]
  },
  {
   "cell_type": "code",
   "execution_count": 14,
   "id": "de41fc33",
   "metadata": {},
   "outputs": [],
   "source": [
    "# 코드로 뽑아내고 싶을때\n",
    "melon.to_html('멜론차트.html' , encoding='euc-kr')"
   ]
  }
 ],
 "metadata": {
  "kernelspec": {
   "display_name": "Python 3 (ipykernel)",
   "language": "python",
   "name": "python3"
  },
  "language_info": {
   "codemirror_mode": {
    "name": "ipython",
    "version": 3
   },
   "file_extension": ".py",
   "mimetype": "text/x-python",
   "name": "python",
   "nbconvert_exporter": "python",
   "pygments_lexer": "ipython3",
   "version": "3.10.9"
  }
 },
 "nbformat": 4,
 "nbformat_minor": 5
}
