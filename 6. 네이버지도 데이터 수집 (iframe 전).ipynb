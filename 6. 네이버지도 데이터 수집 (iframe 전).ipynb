{
 "cells": [
  {
   "cell_type": "code",
   "execution_count": 3,
   "id": "c77fb804",
   "metadata": {},
   "outputs": [],
   "source": [
    "from selenium import webdriver as wb\n",
    "from selenium.webdriver.common.by import By\n",
    "import time\n",
    "from selenium.webdriver.common.keys import Keys"
   ]
  },
  {
   "cell_type": "code",
   "execution_count": 5,
   "id": "1bb3880f",
   "metadata": {},
   "outputs": [],
   "source": [
    "# 1. 크롬드라이버를 실행해서 네이버지도 사이트로 이동\n",
    "driver = wb.Chrome()"
   ]
  },
  {
   "cell_type": "code",
   "execution_count": 6,
   "id": "12efabea",
   "metadata": {},
   "outputs": [],
   "source": [
    "driver.get(\"https://map.naver.com/p\")"
   ]
  },
  {
   "cell_type": "code",
   "execution_count": 7,
   "id": "106b3a19",
   "metadata": {},
   "outputs": [],
   "source": [
    "# 2. 검색창에 검색어 \"동명동 맛집\" 입력\n",
    "search = driver.find_element(By.CSS_SELECTOR,\"input.input_search\")\n",
    "# 검색창의 구분자인 id값이 실행할 때마다 변하기 때문에 사용 X\n",
    "# 이런 경우에는 다른 선택자를 활용해야 함\n",
    "search.send_keys(\"동명동맛집\")\n",
    "search.send_keys(Keys.ENTER)"
   ]
  },
  {
   "cell_type": "code",
   "execution_count": 15,
   "id": "afb8bc89",
   "metadata": {},
   "outputs": [],
   "source": [
    "# 식당 하나를 클릭해서 세부정보를 가져오기\n",
    "# iframe\n",
    "#화면상에 데이터가 출력은 되는데 조작이 안될 때는 ifrmae 검사!\n",
    "# 1. request는 iframe의 src를 찾아가서 거기서 데이터를 수집\n",
    "# 2. Selenium에서는 현재 컴퓨터가 보고 있는 페이지(창)를 변경시켜줌\n"
   ]
  },
  {
   "cell_type": "code",
   "execution_count": 8,
   "id": "2b3c3b3d",
   "metadata": {},
   "outputs": [],
   "source": [
    "# 컴퓨터에게 바라보고 있는 창을 원하는 iframe 페이지로 변경(이동)하라고 명령을 줌\n",
    "# 해당 iframe의 id값 활용\n",
    "driver.switch_to.frame(\"searchIframe\")"
   ]
  },
  {
   "cell_type": "code",
   "execution_count": 9,
   "id": "86b33486",
   "metadata": {},
   "outputs": [],
   "source": [
    "title = driver.find_elements(By.CSS_SELECTOR,\".tzwk0\")\n",
    "title[1].click()"
   ]
  },
  {
   "cell_type": "code",
   "execution_count": 10,
   "id": "b4e78c3d",
   "metadata": {},
   "outputs": [],
   "source": [
    "# 상세정보에서 가게이름정보 수집\n",
    "# 상세정보 iframe으로 화면 이동\n",
    "# driver.switch_to.frame(\"entryIframe\")\n",
    "\n",
    "# 주의점!!!\n",
    "# iframe에서 다른 iframe으로 바로 이동이 불가능함\n",
    "# 원본 페이지에서 ifame으로 가는 건 가능\n",
    "# -> 반드시 원본 페이지로 이동한 다음 다른 iframe으로 이동!\n",
    "driver.switch_to.default_content()"
   ]
  },
  {
   "cell_type": "code",
   "execution_count": 11,
   "id": "e8364d32",
   "metadata": {},
   "outputs": [],
   "source": [
    "# 상세정보 iframe으로 화면 이동\n",
    "driver.switch_to.frame(\"entryIframe\")"
   ]
  },
  {
   "cell_type": "code",
   "execution_count": 12,
   "id": "82d6fcac",
   "metadata": {},
   "outputs": [
    {
     "data": {
      "text/plain": [
       "'틸트틸트'"
      ]
     },
     "execution_count": 12,
     "metadata": {},
     "output_type": "execute_result"
    }
   ],
   "source": [
    "name = driver.find_element(By.CSS_SELECTOR,\".Fc1rA\")\n",
    "name.text"
   ]
  },
  {
   "cell_type": "code",
   "execution_count": 15,
   "id": "02460299",
   "metadata": {},
   "outputs": [],
   "source": [
    "review = driver.find_element(By.CSS_SELECTOR,\".tpj9w._tab-menu:nth-child(5)\")\n",
    "review.click()\n",
    "#app-root > div > div > div > div.place_fixed_maintab > div > div > div > div > a:nth-child(4)"
   ]
  },
  {
   "cell_type": "code",
   "execution_count": 73,
   "id": "6697a93c",
   "metadata": {},
   "outputs": [],
   "source": [
    "# 더보기 누르기\n",
    "btn = driver.find_element(By.CSS_SELECTOR,\".fvwqf\")\n",
    "btn.click()\n"
   ]
  },
  {
   "cell_type": "code",
   "execution_count": 22,
   "id": "d489a0dc",
   "metadata": {},
   "outputs": [
    {
     "data": {
      "text/plain": [
       "[<selenium.webdriver.remote.webelement.WebElement (session=\"9d2ab00ed1b1d9e0afcb34aa6b979b23\", element=\"310A5C73CF5B2C6599847657915C25CD_element_155\")>,\n",
       " <selenium.webdriver.remote.webelement.WebElement (session=\"9d2ab00ed1b1d9e0afcb34aa6b979b23\", element=\"310A5C73CF5B2C6599847657915C25CD_element_156\")>,\n",
       " <selenium.webdriver.remote.webelement.WebElement (session=\"9d2ab00ed1b1d9e0afcb34aa6b979b23\", element=\"310A5C73CF5B2C6599847657915C25CD_element_157\")>,\n",
       " <selenium.webdriver.remote.webelement.WebElement (session=\"9d2ab00ed1b1d9e0afcb34aa6b979b23\", element=\"310A5C73CF5B2C6599847657915C25CD_element_158\")>,\n",
       " <selenium.webdriver.remote.webelement.WebElement (session=\"9d2ab00ed1b1d9e0afcb34aa6b979b23\", element=\"310A5C73CF5B2C6599847657915C25CD_element_159\")>,\n",
       " <selenium.webdriver.remote.webelement.WebElement (session=\"9d2ab00ed1b1d9e0afcb34aa6b979b23\", element=\"310A5C73CF5B2C6599847657915C25CD_element_160\")>,\n",
       " <selenium.webdriver.remote.webelement.WebElement (session=\"9d2ab00ed1b1d9e0afcb34aa6b979b23\", element=\"310A5C73CF5B2C6599847657915C25CD_element_161\")>,\n",
       " <selenium.webdriver.remote.webelement.WebElement (session=\"9d2ab00ed1b1d9e0afcb34aa6b979b23\", element=\"310A5C73CF5B2C6599847657915C25CD_element_162\")>,\n",
       " <selenium.webdriver.remote.webelement.WebElement (session=\"9d2ab00ed1b1d9e0afcb34aa6b979b23\", element=\"310A5C73CF5B2C6599847657915C25CD_element_163\")>,\n",
       " <selenium.webdriver.remote.webelement.WebElement (session=\"9d2ab00ed1b1d9e0afcb34aa6b979b23\", element=\"310A5C73CF5B2C6599847657915C25CD_element_164\")>]"
      ]
     },
     "execution_count": 22,
     "metadata": {},
     "output_type": "execute_result"
    }
   ],
   "source": [
    "more = driver.find_elements(By.CSS_SELECTOR,\".xHaT3\")\n",
    "more"
   ]
  },
  {
   "cell_type": "code",
   "execution_count": 23,
   "id": "ac8ddcf7",
   "metadata": {},
   "outputs": [
    {
     "name": "stdout",
     "output_type": "stream",
     "text": [
      "아이가 있는지라, 동명동 자체를 정말 오랜만에 방문했습니다. 네이버 예약이 되어서 안심되었습니다. 아이가 매우 배고파했는데, 메뉴도 빨리 나오는 편이라 정말 감사했구요. ^^ 더불어 맛도 있었습니다. 우니단새우 파스타 신선한 맛에 한 번 놀란 후, 통베이컨 김치리조또로 개운하게 식사 마무리 했습니다. 번창하세요. ^^\n",
      "우니 단새우 파스타라는 메뉴가 먹어보고싶어서 왔어요! 오픈 주방이라 조금 소란스럽기는 하지만 그만큼 위생에 더 신경쓰고 자신있으니 오픈하시는것같아요 파스타 특별하구 맛있어요~ 리조또는 아는맛 파스타는 몰랐던맛인데 맛있어요!\n",
      "추천받아서 왔는데 음식도 너무 맛있고 사장님도 너무 친절하셔서 좋았습니다! 더 많이 시켜 먹어보고싶은데 그러지 못하는게 아쉬울뿐.. 주차는 근처 골목길에 하면 되는거 같아요\n",
      "다음에 와서 단새우 우니 파스타도 먹어봐야 겠어요!\n",
      "특별한 날이라 데이트 나왔는데 \n",
      "너무 맛있게 먹었어요ㅎ우니단새우 파스타는 정말 흔히보기힘든 특별하고도 맛있는 맛이었어요 진짜 달달 단새우💛\n",
      "함께 시킨 로제파스타는 치킨이 정말 맛있었고 로제가 크림양이 조금 덜한 느낌이었어요ㅎ그 맛도 좋았어요ㅎ\n",
      "두 메뉴모두 만족입니다ㅎ\n",
      "단새우파스타가 유명하대서 갔는데 진짜 맛있더라고용ㅋㅋ 파스타 강추요!!\n",
      "우니단새우파스타 제발 꼭 먹어주세요. 진짜 동명동에서 제일 맛있음!!!\n",
      "감태전복리조또 김치볶음밥 리가토니까지 존맛,, 또 방문할게요🥹\n",
      "우니단새우 파스타 정말 추천입니다! 파스타도 맛있구요!! 추천합니다!\n",
      "매장 분위기도 좋고 친절하셨습니다 :) \n",
      "너무 맛있네요 오픈키친에 재료도 신선해서 더 기분 좋게 식사하고 왔습니다\n",
      "반창하십쇼! 💕💕\n",
      "단새우 우네 파스타가 처음먹어 본 맛이면서 너무 맛있어요 !! 로제파스타도 괜찮아요!! 그리고 다른 곳에 비해 양이 많은 것 같아서 좋아요👍🏻👍🏻\n",
      "직원분이 친절하시고\n",
      "리조또랑 파스타 메뉴가 특별해서 좋아요\n",
      "통베이컨 김치리조또 완전 추천\n"
     ]
    }
   ],
   "source": [
    "# text = driver.find_elements(By.CSS_SELECTOR ,\".zPfVt\")\n",
    "more = driver.find_elements(By.CSS_SELECTOR,\".xHaT3\")\n",
    "for i in range(len(more)):\n",
    "    more[i].click()\n",
    "    print(more[i].text)"
   ]
  },
  {
   "cell_type": "code",
   "execution_count": null,
   "id": "08465e11",
   "metadata": {},
   "outputs": [],
   "source": []
  }
 ],
 "metadata": {
  "kernelspec": {
   "display_name": "Python 3 (ipykernel)",
   "language": "python",
   "name": "python3"
  },
  "language_info": {
   "codemirror_mode": {
    "name": "ipython",
    "version": 3
   },
   "file_extension": ".py",
   "mimetype": "text/x-python",
   "name": "python",
   "nbconvert_exporter": "python",
   "pygments_lexer": "ipython3",
   "version": "3.10.9"
  }
 },
 "nbformat": 4,
 "nbformat_minor": 5
}
