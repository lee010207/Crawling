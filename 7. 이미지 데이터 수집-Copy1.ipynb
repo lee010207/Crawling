{
 "cells": [
  {
   "cell_type": "code",
   "execution_count": 1,
   "id": "df4a4574",
   "metadata": {},
   "outputs": [],
   "source": [
    "from selenium import webdriver as wb\n",
    "from selenium.webdriver.common.by import By\n",
    "from selenium.webdriver.common.keys import Keys\n",
    "import time\n",
    "\n",
    "# 파일 시스템을 위한 라이브러리(삭제, 생성)\n",
    "import os\n",
    "# 이미지의 경로를 실제 파일로 저장\n",
    "from urllib.request import urlretrieve"
   ]
  },
  {
   "cell_type": "code",
   "execution_count": 2,
   "id": "8138fdb3",
   "metadata": {},
   "outputs": [],
   "source": [
    "# 바탕화면에 폴더 생성\n",
    "# 바탕화면에 이미지라는 폴더가 없다면 \n",
    "# 바탕화면에 이미지라는 폴더(directory 디렉토리)를 만들어라\n",
    "\n",
    "# 만약 ~가 아니라면 : if not\n",
    "if not os.path.isdir(\"C:/Users/gjaischool1/Desktop/이미지\"):\n",
    "    os.mkdir(\"C:/Users/gjaischool1/Desktop/이미지\")"
   ]
  },
  {
   "cell_type": "code",
   "execution_count": 3,
   "id": "b5145836",
   "metadata": {},
   "outputs": [],
   "source": [
    "driver = wb.Chrome()\n",
    "driver.get(\"https://www.google.com/search?q=%EA%B0%95%EC%95%84%EC%A7%80&tbm=isch&ved=2ahUKEwiR5aHtnuqBAxWIulYBHfQEDDYQ2-cCegQIABAA&oq=%EA%B0%95%EC%95%84%EC%A7%80&gs_lcp=CgNpbWcQAzIECCMQJzIICAAQgAQQsQMyCAgAEIAEELEDMggIABCABBCxAzIFCAAQgAQyCAgAEIAEELEDMgUIABCABDIFCAAQgAQyBQgAEIAEMgUIABCABDoLCAAQgAQQsQMQgwE6CAgAELEDEIMBUMYKWIsQYOkRaAFwAHgBgAF1iAHwBZIBAzYuMpgBAKABAaoBC2d3cy13aXotaW1nwAEB&sclient=img&ei=EZ0kZdGYD4j12roP9ImwsAM&bih=739&biw=1536&hl=ko\")"
   ]
  },
  {
   "cell_type": "code",
   "execution_count": 7,
   "id": "f78ce21e",
   "metadata": {},
   "outputs": [],
   "source": [
    "# 화면 준비 : 스크롤\n",
    "# body태그 찾아와서 send_keys\n",
    "body = driver.find_element(By.TAG_NAME,\"div.\")\n",
    "for i in range(10):\n",
    "    body.send_keys(Keys.PAGE_DOWN)"
   ]
  },
  {
   "cell_type": "code",
   "execution_count": 8,
   "id": "7cc127a8",
   "metadata": {},
   "outputs": [
    {
     "ename": "IndexError",
     "evalue": "list index out of range",
     "output_type": "error",
     "traceback": [
      "\u001b[1;31m---------------------------------------------------------------------------\u001b[0m",
      "\u001b[1;31mIndexError\u001b[0m                                Traceback (most recent call last)",
      "Cell \u001b[1;32mIn[8], line 10\u001b[0m\n\u001b[0;32m      5\u001b[0m img \u001b[38;5;241m=\u001b[39m driver\u001b[38;5;241m.\u001b[39mfind_elements(By\u001b[38;5;241m.\u001b[39mCSS_SELECTOR,\u001b[38;5;124m\"\u001b[39m\u001b[38;5;124m._image._listImage\u001b[39m\u001b[38;5;124m\"\u001b[39m)\n\u001b[0;32m      6\u001b[0m \u001b[38;5;66;03m# 가져온 이미지 태그 안에 있는 src 속성을 가져오기\u001b[39;00m\n\u001b[0;32m      7\u001b[0m \u001b[38;5;66;03m# 태그 안에 있는 속성을 가져올 때 : .get_attribute(\"속성이름\")\u001b[39;00m\n\u001b[0;32m      8\u001b[0m \u001b[38;5;66;03m# ex) a태그 안에 있는 url주소(href값)\u001b[39;00m\n\u001b[1;32m---> 10\u001b[0m \u001b[43mimg\u001b[49m\u001b[43m[\u001b[49m\u001b[38;5;241;43m0\u001b[39;49m\u001b[43m]\u001b[49m\u001b[38;5;241m.\u001b[39mget_attribute(\u001b[38;5;124m\"\u001b[39m\u001b[38;5;124msrc\u001b[39m\u001b[38;5;124m\"\u001b[39m)\n",
      "\u001b[1;31mIndexError\u001b[0m: list index out of range"
     ]
    }
   ],
   "source": [
    "# 홀태그 : 기능을 담당하는 태그 , 여는 태그와 닫는 태그 사이에 담는 컨텐츠가 없음\n",
    "# img, br 태그 같은 거는 이미지를 불러오는 기능, 줄바꿈 기능만 함, 컨텐츠를 담는다는 개념이 없음\n",
    "\n",
    "# 이미지 태그들 수집\n",
    "img = driver.find_elements(By.CSS_SELECTOR,\"._image._listImage\")\n",
    "# 가져온 이미지 태그 안에 있는 src 속성을 가져오기\n",
    "# 태그 안에 있는 속성을 가져올 때 : .get_attribute(\"속성이름\")\n",
    "# ex) a태그 안에 있는 url주소(href값)\n",
    "\n",
    "img[0].get_attribute(\"src\")"
   ]
  },
  {
   "cell_type": "code",
   "execution_count": 22,
   "id": "3e9486b6",
   "metadata": {},
   "outputs": [],
   "source": [
    "# 데이터 가공 : 이미지 주소만 담아놓은 리스트 생성\n",
    "src = []\n",
    "for i in range(len(img)):\n",
    "    src.append(img[i].get_attribute('src'))"
   ]
  },
  {
   "cell_type": "code",
   "execution_count": 10,
   "id": "972c68ec",
   "metadata": {},
   "outputs": [
    {
     "data": {
      "text/plain": [
       "['https://search.pstatic.net/common/?src=http%3A%2F%2Fblogfiles.naver.net%2FMjAxNzA4MjBfNTEg%2FMDAxNTAzMjIzODEwODc1.jKwmETMRa2FNQwalEhUSP3yExVE7TudCq4_COl_CYQQg.Ewp2JwSE8w3AZeSb-MBGEasMrvLGIAMLk6bNFwaYH58g.JPEG.gemma2637%2FKakaoTalk_Moim_4CkZHNUele2uqPIX26gdCG6z3Og6cx.jpg&type=a340',\n",
       " 'https://search.pstatic.net/common/?src=http%3A%2F%2Fblogfiles.naver.net%2FMjAyMjAyMjNfNTYg%2FMDAxNjQ1NTk2ODcyNTcy.sXwuQSFDJ3jlEndMHB5p0cx8BkQhaDZDMs5Cp-y4V5Qg.JRUi6-OYOqJuY9EEhwsY0QoY2jl7VviKZgtGuu0tqwUg.JPEG.windysky70%2FIMG_9163.JPG&type=a340',\n",
       " 'https://search.pstatic.net/common/?src=http%3A%2F%2Fblogfiles.naver.net%2FMjAyMjA4MTdfMTkg%2FMDAxNjYwNjg3Mzk4NDcy.WFZ2Be3KaPnXuCknK6GoyZfMjC5FGVUaZzO210Yer90g.0rzjqDccyN-EWRzMHRsZ8BUcGRaXHRdQS2PF-DA2OGQg.JPEG.hyooonii%2FIMG_3760.JPG&type=a340',\n",
       " 'https://search.pstatic.net/common/?src=http%3A%2F%2Fblogfiles.naver.net%2FMjAxNzA4MjBfMTYg%2FMDAxNTAzMjIzODEwNTI2.ub73oAaTkF36td4Hlegqf_g3Rz3sCsa2cD7oDmvd3L8g._k_p2ZRppZOcWtUQoZz2wNeXg2QWbJP9Cbgd7q94A1og.JPEG.gemma2637%2FKakaoTalk_Moim_4CkZHNUele2uqPIX26gdCG6z3O6cpz.jpg&type=a340',\n",
       " 'https://search.pstatic.net/sunny/?src=https%3A%2F%2Fi.pinimg.com%2F736x%2F0d%2F98%2F4d%2F0d984d03224ac2c8f63fd3fdec8ea7e7.jpg&type=a340',\n",
       " 'https://search.pstatic.net/common/?src=http%3A%2F%2Fblogfiles.naver.net%2FMjAxNzEyMTlfNDMg%2FMDAxNTEzNjYxNjQxNTkx.WGKUig8BsUo7j037TPEmmUSJttSksSHM5DAVFF79-Awg.yQ9ijWf2QRO5DT9zCsKG9w3cywIUWwcX1088-1IyoQ4g.JPEG.minhee2075%2FKakaoTalk_20171219_142914447.jpg&type=ofullfill340_600_png',\n",
       " 'https://search.pstatic.net/common/?src=http%3A%2F%2Fblogfiles.naver.net%2FMjAxNzA5MTBfMjAx%2FMDAxNTA1MDQ4MjQ1Njk4.u5-tzSd9tk1BOmBUgP5tSKL9WV8QPqg0A8alJVnaf-kg.Hke_rVjOcoVI0kd7hkBD5Jr6mlJA--tIbLTdTi2kdaMg.JPEG.songyoorim7195%2FIMG_5127.jpg&type=l340_165',\n",
       " 'https://search.pstatic.net/common/?src=http%3A%2F%2Fblogfiles.naver.net%2FMjAxNzEyMjBfMTYz%2FMDAxNTEzNzc5MzUwNDc5.XczQM1wo6IHS6cxG9ocg5sTcxZD3dECHQ41uVtxX6Q8g.3cuhAfoeT-wsIJExqn_q8rMK4Nhbh21xnzvxGkvNm_Yg.JPEG.mdroid_16%2F1512366673908.JPEG&type=a340',\n",
       " 'https://search.pstatic.net/common/?src=http%3A%2F%2Fblogfiles.naver.net%2FMjAxOTEwMTBfMjUg%2FMDAxNTcwNzAxMTUyNjY2.Mb-PWP4m4EEPv3BhXoDFx38dRWRHREi07nD2z2_9M10g.7wSTFIBPVxBRkGLnuRULGzXhe3Hkt8auBDHkQC9S9HMg.JPEG.kwoun486%2FIMG_9735.JPG&type=ofullfill340_600_png',\n",
       " 'https://search.pstatic.net/common/?src=http%3A%2F%2Fblogfiles.naver.net%2FMjAyMDAxMTZfMTQ3%2FMDAxNTc5MTQzNjY3NDY4.fHY0eyD2PCZ55s6l1sL3vjNEjhC0IEXUrosGrkUwoZog.45P2ureznjgXr2IomzDZMgjFdYcmntgyadvhvNDbh88g.JPEG.ibaboclub%2FKakaoTalk_20200116_112410450_12.jpg&type=a340',\n",
       " 'https://search.pstatic.net/common/?src=http%3A%2F%2Fblogfiles.naver.net%2FMjAyMTAzMDNfMjA4%2FMDAxNjE0NzgwNjIxNjc1.zMUgSG350YWyzQ31DbfNBeZiU49A3Vvd5xKSlO6jVXQg.KskU-VKVURdLbFvYosJ5GSho3Fc2HK15pxLi1-Gzoc0g.JPEG.sosohan_n%2FIMG_3608.JPG&type=a340',\n",
       " 'https://search.pstatic.net/common/?src=http%3A%2F%2Fblogfiles.naver.net%2F20160314_97%2Fkkl1114_1457950689720Il9pp_PNG%2FScreenshot_2016-03-13-14-30-41.png&type=l340_165',\n",
       " 'data:image/gif;base64,R0lGODlhAQABAIAAAAAAAP///yH5BAEAAAAALAAAAAABAAEAAAIBRAA7',\n",
       " 'https://search.pstatic.net/common/?src=http%3A%2F%2Fblogfiles.naver.net%2FMjAyMjA2MjdfMjQ5%2FMDAxNjU2MzE3MDU1Nzkw.8i1HbLGEEcsfAkh7TtI_hfNoB13_Hl3Es6SV8LfA58Mg.PrwyfF7_XJqLKU4Re7E_aOycFFJ1gWPE2xsoW_lMK4Yg.JPEG.jisu9610042%2FIMG_1467.JPG&type=a340',\n",
       " 'data:image/gif;base64,R0lGODlhAQABAIAAAAAAAP///yH5BAEAAAAALAAAAAABAAEAAAIBRAA7',\n",
       " 'https://search.pstatic.net/sunny/?src=https%3A%2F%2Fd11tujlfic6kel.cloudfront.net%2Fa18%2Fc9c9e%2F2efc%2F4b35%2Fb318%2F9e43e3598cae%2Fnormal%2F49227.jpg&type=ofullfill340_600_png',\n",
       " 'data:image/gif;base64,R0lGODlhAQABAIAAAAAAAP///yH5BAEAAAAALAAAAAABAAEAAAIBRAA7',\n",
       " 'data:image/gif;base64,R0lGODlhAQABAIAAAAAAAP///yH5BAEAAAAALAAAAAABAAEAAAIBRAA7',\n",
       " 'data:image/gif;base64,R0lGODlhAQABAIAAAAAAAP///yH5BAEAAAAALAAAAAABAAEAAAIBRAA7',\n",
       " 'data:image/gif;base64,R0lGODlhAQABAIAAAAAAAP///yH5BAEAAAAALAAAAAABAAEAAAIBRAA7',\n",
       " 'data:image/gif;base64,R0lGODlhAQABAIAAAAAAAP///yH5BAEAAAAALAAAAAABAAEAAAIBRAA7',\n",
       " 'data:image/gif;base64,R0lGODlhAQABAIAAAAAAAP///yH5BAEAAAAALAAAAAABAAEAAAIBRAA7',\n",
       " 'data:image/gif;base64,R0lGODlhAQABAIAAAAAAAP///yH5BAEAAAAALAAAAAABAAEAAAIBRAA7',\n",
       " 'data:image/gif;base64,R0lGODlhAQABAIAAAAAAAP///yH5BAEAAAAALAAAAAABAAEAAAIBRAA7',\n",
       " 'data:image/gif;base64,R0lGODlhAQABAIAAAAAAAP///yH5BAEAAAAALAAAAAABAAEAAAIBRAA7',\n",
       " 'data:image/gif;base64,R0lGODlhAQABAIAAAAAAAP///yH5BAEAAAAALAAAAAABAAEAAAIBRAA7',\n",
       " 'data:image/gif;base64,R0lGODlhAQABAIAAAAAAAP///yH5BAEAAAAALAAAAAABAAEAAAIBRAA7',\n",
       " 'data:image/gif;base64,R0lGODlhAQABAIAAAAAAAP///yH5BAEAAAAALAAAAAABAAEAAAIBRAA7',\n",
       " 'data:image/gif;base64,R0lGODlhAQABAIAAAAAAAP///yH5BAEAAAAALAAAAAABAAEAAAIBRAA7',\n",
       " 'data:image/gif;base64,R0lGODlhAQABAIAAAAAAAP///yH5BAEAAAAALAAAAAABAAEAAAIBRAA7',\n",
       " 'data:image/gif;base64,R0lGODlhAQABAIAAAAAAAP///yH5BAEAAAAALAAAAAABAAEAAAIBRAA7',\n",
       " 'data:image/gif;base64,R0lGODlhAQABAIAAAAAAAP///yH5BAEAAAAALAAAAAABAAEAAAIBRAA7',\n",
       " 'data:image/gif;base64,R0lGODlhAQABAIAAAAAAAP///yH5BAEAAAAALAAAAAABAAEAAAIBRAA7',\n",
       " 'data:image/gif;base64,R0lGODlhAQABAIAAAAAAAP///yH5BAEAAAAALAAAAAABAAEAAAIBRAA7',\n",
       " 'data:image/gif;base64,R0lGODlhAQABAIAAAAAAAP///yH5BAEAAAAALAAAAAABAAEAAAIBRAA7',\n",
       " 'data:image/gif;base64,R0lGODlhAQABAIAAAAAAAP///yH5BAEAAAAALAAAAAABAAEAAAIBRAA7',\n",
       " 'data:image/gif;base64,R0lGODlhAQABAIAAAAAAAP///yH5BAEAAAAALAAAAAABAAEAAAIBRAA7',\n",
       " 'data:image/gif;base64,R0lGODlhAQABAIAAAAAAAP///yH5BAEAAAAALAAAAAABAAEAAAIBRAA7',\n",
       " 'data:image/gif;base64,R0lGODlhAQABAIAAAAAAAP///yH5BAEAAAAALAAAAAABAAEAAAIBRAA7',\n",
       " 'data:image/gif;base64,R0lGODlhAQABAIAAAAAAAP///yH5BAEAAAAALAAAAAABAAEAAAIBRAA7',\n",
       " 'data:image/gif;base64,R0lGODlhAQABAIAAAAAAAP///yH5BAEAAAAALAAAAAABAAEAAAIBRAA7',\n",
       " 'data:image/gif;base64,R0lGODlhAQABAIAAAAAAAP///yH5BAEAAAAALAAAAAABAAEAAAIBRAA7',\n",
       " 'data:image/gif;base64,R0lGODlhAQABAIAAAAAAAP///yH5BAEAAAAALAAAAAABAAEAAAIBRAA7',\n",
       " 'data:image/gif;base64,R0lGODlhAQABAIAAAAAAAP///yH5BAEAAAAALAAAAAABAAEAAAIBRAA7',\n",
       " 'data:image/gif;base64,R0lGODlhAQABAIAAAAAAAP///yH5BAEAAAAALAAAAAABAAEAAAIBRAA7',\n",
       " 'data:image/gif;base64,R0lGODlhAQABAIAAAAAAAP///yH5BAEAAAAALAAAAAABAAEAAAIBRAA7',\n",
       " 'data:image/gif;base64,R0lGODlhAQABAIAAAAAAAP///yH5BAEAAAAALAAAAAABAAEAAAIBRAA7',\n",
       " 'data:image/gif;base64,R0lGODlhAQABAIAAAAAAAP///yH5BAEAAAAALAAAAAABAAEAAAIBRAA7']"
      ]
     },
     "execution_count": 10,
     "metadata": {},
     "output_type": "execute_result"
    }
   ],
   "source": [
    "src"
   ]
  },
  {
   "cell_type": "code",
   "execution_count": 23,
   "id": "6c55e648",
   "metadata": {},
   "outputs": [],
   "source": [
    "# 데이터 활용 : 이미지 경로를 실제 파일로 저장(urlretrieve)\n",
    "# \"C:/Users/gjaischool1/Desktop/이미지\" -> 이미지 폴더 안에 넣을 거니까 / 붙여주기!\n",
    "# i 는 숫자형태 -> str()로 문자형태로 변환시켜주기\n",
    "for i in range(len(src)):\n",
    "    urlretrieve(src[i],\"C:/Users/gjaischool1/Desktop/이미지/\"+str(i)+\".jpg\")"
   ]
  },
  {
   "cell_type": "code",
   "execution_count": null,
   "id": "ab993242",
   "metadata": {},
   "outputs": [],
   "source": []
  }
 ],
 "metadata": {
  "kernelspec": {
   "display_name": "Python 3 (ipykernel)",
   "language": "python",
   "name": "python3"
  },
  "language_info": {
   "codemirror_mode": {
    "name": "ipython",
    "version": 3
   },
   "file_extension": ".py",
   "mimetype": "text/x-python",
   "name": "python",
   "nbconvert_exporter": "python",
   "pygments_lexer": "ipython3",
   "version": "3.10.9"
  }
 },
 "nbformat": 4,
 "nbformat_minor": 5
}
